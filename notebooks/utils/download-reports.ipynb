{
 "cells": [
  {
   "cell_type": "code",
   "execution_count": null,
   "metadata": {
    "colab": {
     "base_uri": "https://localhost:8080/"
    },
    "executionInfo": {
     "elapsed": 36786,
     "status": "ok",
     "timestamp": 1725496261933,
     "user": {
      "displayName": "JUAN DAVID TOVAR MONTOYA",
      "userId": "14736496696284851781"
     },
     "user_tz": 300
    },
    "id": "Nj9kJfjjqNiU",
    "outputId": "4ed41e77-8734-4a08-d485-c20299d10a47"
   },
   "outputs": [
    {
     "name": "stdout",
     "output_type": "stream",
     "text": [
      "Requirement already satisfied: pandas in c:\\users\\usuario\\anaconda3\\lib\\site-packages (2.2.2)\n",
      "Requirement already satisfied: numpy>=1.26.0 in c:\\users\\usuario\\anaconda3\\lib\\site-packages (from pandas) (1.26.4)\n",
      "Requirement already satisfied: python-dateutil>=2.8.2 in c:\\users\\usuario\\anaconda3\\lib\\site-packages (from pandas) (2.9.0.post0)\n",
      "Requirement already satisfied: pytz>=2020.1 in c:\\users\\usuario\\anaconda3\\lib\\site-packages (from pandas) (2024.1)\n",
      "Requirement already satisfied: tzdata>=2022.7 in c:\\users\\usuario\\anaconda3\\lib\\site-packages (from pandas) (2023.3)\n",
      "Requirement already satisfied: six>=1.5 in c:\\users\\usuario\\anaconda3\\lib\\site-packages (from python-dateutil>=2.8.2->pandas) (1.16.0)\n",
      "Requirement already satisfied: openpyxl in c:\\users\\usuario\\anaconda3\\lib\\site-packages (3.1.2)\n",
      "Requirement already satisfied: et-xmlfile in c:\\users\\usuario\\anaconda3\\lib\\site-packages (from openpyxl) (1.1.0)\n",
      "Requirement already satisfied: selenium in c:\\users\\usuario\\anaconda3\\lib\\site-packages (4.28.1)\n",
      "Requirement already satisfied: urllib3<3,>=1.26 in c:\\users\\usuario\\anaconda3\\lib\\site-packages (from urllib3[socks]<3,>=1.26->selenium) (2.2.2)\n",
      "Requirement already satisfied: trio~=0.17 in c:\\users\\usuario\\anaconda3\\lib\\site-packages (from selenium) (0.28.0)\n",
      "Requirement already satisfied: trio-websocket~=0.9 in c:\\users\\usuario\\anaconda3\\lib\\site-packages (from selenium) (0.11.1)\n",
      "Requirement already satisfied: certifi>=2021.10.8 in c:\\users\\usuario\\anaconda3\\lib\\site-packages (from selenium) (2024.8.30)\n",
      "Requirement already satisfied: typing_extensions~=4.9 in c:\\users\\usuario\\anaconda3\\lib\\site-packages (from selenium) (4.11.0)\n",
      "Requirement already satisfied: websocket-client~=1.8 in c:\\users\\usuario\\anaconda3\\lib\\site-packages (from selenium) (1.8.0)\n",
      "Requirement already satisfied: attrs>=23.2.0 in c:\\users\\usuario\\anaconda3\\lib\\site-packages (from trio~=0.17->selenium) (25.1.0)\n",
      "Requirement already satisfied: sortedcontainers in c:\\users\\usuario\\anaconda3\\lib\\site-packages (from trio~=0.17->selenium) (2.4.0)\n",
      "Requirement already satisfied: idna in c:\\users\\usuario\\anaconda3\\lib\\site-packages (from trio~=0.17->selenium) (3.7)\n",
      "Requirement already satisfied: outcome in c:\\users\\usuario\\anaconda3\\lib\\site-packages (from trio~=0.17->selenium) (1.3.0.post0)\n",
      "Requirement already satisfied: sniffio>=1.3.0 in c:\\users\\usuario\\anaconda3\\lib\\site-packages (from trio~=0.17->selenium) (1.3.0)\n",
      "Requirement already satisfied: cffi>=1.14 in c:\\users\\usuario\\anaconda3\\lib\\site-packages (from trio~=0.17->selenium) (1.16.0)\n",
      "Requirement already satisfied: wsproto>=0.14 in c:\\users\\usuario\\anaconda3\\lib\\site-packages (from trio-websocket~=0.9->selenium) (1.2.0)\n",
      "Requirement already satisfied: pysocks!=1.5.7,<2.0,>=1.5.6 in c:\\users\\usuario\\anaconda3\\lib\\site-packages (from urllib3[socks]<3,>=1.26->selenium) (1.7.1)\n",
      "Requirement already satisfied: pycparser in c:\\users\\usuario\\anaconda3\\lib\\site-packages (from cffi>=1.14->trio~=0.17->selenium) (2.21)\n",
      "Requirement already satisfied: h11<1,>=0.9.0 in c:\\users\\usuario\\anaconda3\\lib\\site-packages (from wsproto>=0.14->trio-websocket~=0.9->selenium) (0.14.0)\n"
     ]
    },
    {
     "name": "stderr",
     "output_type": "stream",
     "text": [
      "\"apt-get\" no se reconoce como un comando interno o externo,\n",
      "programa o archivo por lotes ejecutable.\n",
      "\"apt\" no se reconoce como un comando interno o externo,\n",
      "programa o archivo por lotes ejecutable.\n"
     ]
    }
   ],
   "source": [
    "%pip install pandas\n",
    "!pip install openpyxl\n",
    "!pip install selenium\n",
    "!apt-get update\n",
    "!apt install -y chromium-chromedriver\n",
    "\n"
   ]
  },
  {
   "cell_type": "code",
   "execution_count": 2,
   "metadata": {
    "colab": {
     "base_uri": "https://localhost:8080/"
    },
    "executionInfo": {
     "elapsed": 27792,
     "status": "ok",
     "timestamp": 1725496289719,
     "user": {
      "displayName": "JUAN DAVID TOVAR MONTOYA",
      "userId": "14736496696284851781"
     },
     "user_tz": 300
    },
    "id": "rEmlWGYDmJCd",
    "outputId": "4e3cc7a6-e13a-4b11-9517-8f999e349eb1"
   },
   "outputs": [
    {
     "name": "stdout",
     "output_type": "stream",
     "text": [
      "Mounted at /content/drive\n"
     ]
    }
   ],
   "source": [
    "from google.colab import drive\n",
    "drive.mount('/content/drive')"
   ]
  },
  {
   "cell_type": "code",
   "execution_count": 14,
   "metadata": {
    "executionInfo": {
     "elapsed": 2737,
     "status": "ok",
     "timestamp": 1725496292452,
     "user": {
      "displayName": "JUAN DAVID TOVAR MONTOYA",
      "userId": "14736496696284851781"
     },
     "user_tz": 300
    },
    "id": "8fprrDzwdm1Y"
   },
   "outputs": [
    {
     "name": "stdout",
     "output_type": "stream",
     "text": [
      "Collecting openpyxl\n",
      "  Downloading openpyxl-3.1.5-py2.py3-none-any.whl.metadata (2.5 kB)\n",
      "Collecting et-xmlfile (from openpyxl)\n",
      "  Downloading et_xmlfile-2.0.0-py3-none-any.whl.metadata (2.7 kB)\n",
      "Downloading openpyxl-3.1.5-py2.py3-none-any.whl (250 kB)\n",
      "Downloading et_xmlfile-2.0.0-py3-none-any.whl (18 kB)\n",
      "Installing collected packages: et-xmlfile, openpyxl\n",
      "Successfully installed et-xmlfile-2.0.0 openpyxl-3.1.5\n",
      "Note: you may need to restart the kernel to use updated packages.\n"
     ]
    }
   ],
   "source": [
    "%pip install openpyxl\n",
    "import pandas as pd\n",
    "\n",
    "\n",
    "# file prfix\n",
    "\n",
    "sources_folder_prefix = \"../../\" #\"/content/drive/MyDrive/Tesis\"\n",
    "# Cargar datos desde un archivo Excel\n",
    "df = pd.read_excel(sources_folder_prefix+'/resources/listado-informes.xlsx')\n",
    "\n",
    "# Convertir DataFrame a una lista de diccionarios\n",
    "report_list = df.to_dict(orient='records')\n",
    "\n",
    "\n"
   ]
  },
  {
   "cell_type": "code",
   "execution_count": 15,
   "metadata": {
    "colab": {
     "base_uri": "https://localhost:8080/"
    },
    "executionInfo": {
     "elapsed": 11,
     "status": "ok",
     "timestamp": 1725496292453,
     "user": {
      "displayName": "JUAN DAVID TOVAR MONTOYA",
      "userId": "14736496696284851781"
     },
     "user_tz": 300
    },
    "id": "Jis8HCiOiEuE",
    "outputId": "752b75f5-c4ce-4e87-f49b-72cea4e6dd06"
   },
   "outputs": [
    {
     "name": "stdout",
     "output_type": "stream",
     "text": [
      "715\n"
     ]
    }
   ],
   "source": [
    "print(len(report_list))"
   ]
  },
  {
   "cell_type": "code",
   "execution_count": null,
   "metadata": {
    "colab": {
     "base_uri": "https://localhost:8080/"
    },
    "executionInfo": {
     "elapsed": 14,
     "status": "ok",
     "timestamp": 1724095431776,
     "user": {
      "displayName": "JUAN DAVID TOVAR MONTOYA",
      "userId": "14736496696284851781"
     },
     "user_tz": 300
    },
    "id": "KTBevm2wiCf3",
    "outputId": "14b57a7a-722e-419d-d873-be55dbb776f4"
   },
   "outputs": [
    {
     "name": "stdout",
     "output_type": "stream",
     "text": [
      "http://archivo.comisiondelaverdad.co/explora/detalle/058-CI-00233\n",
      "715\n",
      "http://archivo.comisiondelaverdad.co/explora/detalle/058-CI-00235\n",
      "715\n",
      "http://archivo.comisiondelaverdad.co/explora/detalle/058-CI-00263\n",
      "715\n",
      "http://archivo.comisiondelaverdad.co/explora/detalle/058-CI-00627\n",
      "715\n",
      "http://archivo.comisiondelaverdad.co/explora/detalle/058-CI-00628\n",
      "715\n",
      "http://archivo.comisiondelaverdad.co/explora/detalle/058-CI-00661\n",
      "715\n",
      "http://archivo.comisiondelaverdad.co/explora/detalle/058-CI-00662\n",
      "715\n",
      "http://archivo.comisiondelaverdad.co/explora/detalle/058-CI-00771\n",
      "715\n",
      "http://archivo.comisiondelaverdad.co/explora/detalle/058-CI-00772\n",
      "715\n",
      "http://archivo.comisiondelaverdad.co/explora/detalle/058-CI-00776\n",
      "715\n",
      "http://archivo.comisiondelaverdad.co/explora/detalle/058-CI-00777\n",
      "715\n",
      "http://archivo.comisiondelaverdad.co/explora/detalle/058-CI-00844\n",
      "715\n",
      "http://archivo.comisiondelaverdad.co/explora/detalle/058-CI-00882\n",
      "715\n",
      "http://archivo.comisiondelaverdad.co/explora/detalle/058-CI-01075\n",
      "715\n",
      "http://archivo.comisiondelaverdad.co/explora/detalle/058-CI-01347\n",
      "715\n",
      "http://archivo.comisiondelaverdad.co/explora/detalle/066-CI-00538\n",
      "715\n",
      "http://archivo.comisiondelaverdad.co/explora/detalle/066-CI-00540\n",
      "715\n",
      "http://archivo.comisiondelaverdad.co/explora/detalle/066-CI-00549\n",
      "715\n",
      "http://archivo.comisiondelaverdad.co/explora/detalle/066-CI-00550\n",
      "715\n",
      "http://archivo.comisiondelaverdad.co/explora/detalle/066-CI-00551\n",
      "715\n",
      "http://archivo.comisiondelaverdad.co/explora/detalle/066-CI-00552\n",
      "715\n",
      "http://archivo.comisiondelaverdad.co/explora/detalle/066-CI-00553\n",
      "715\n",
      "http://archivo.comisiondelaverdad.co/explora/detalle/066-CI-00564\n",
      "715\n",
      "http://archivo.comisiondelaverdad.co/explora/detalle/066-CI-00565\n",
      "715\n",
      "http://archivo.comisiondelaverdad.co/explora/detalle/066-CI-00566\n",
      "715\n",
      "http://archivo.comisiondelaverdad.co/explora/detalle/066-CI-00567\n",
      "715\n",
      "http://archivo.comisiondelaverdad.co/explora/detalle/066-CI-00568\n",
      "715\n",
      "http://archivo.comisiondelaverdad.co/explora/detalle/066-CI-00569\n",
      "715\n",
      "http://archivo.comisiondelaverdad.co/explora/detalle/066-CI-00570\n",
      "715\n",
      "http://archivo.comisiondelaverdad.co/explora/detalle/066-CI-00577\n",
      "715\n",
      "http://archivo.comisiondelaverdad.co/explora/detalle/066-CI-00578\n",
      "715\n",
      "http://archivo.comisiondelaverdad.co/explora/detalle/066-CI-00897\n",
      "715\n",
      "http://archivo.comisiondelaverdad.co/explora/detalle/066-CI-00899\n",
      "715\n",
      "http://archivo.comisiondelaverdad.co/explora/detalle/066-CI-00912\n",
      "715\n",
      "http://archivo.comisiondelaverdad.co/explora/detalle/066-CI-00914\n",
      "715\n",
      "http://archivo.comisiondelaverdad.co/explora/detalle/066-CI-00915\n",
      "715\n",
      "http://archivo.comisiondelaverdad.co/explora/detalle/066-CI-00990\n",
      "715\n",
      "http://archivo.comisiondelaverdad.co/explora/detalle/066-CI-01008\n",
      "715\n",
      "http://archivo.comisiondelaverdad.co/explora/detalle/066-CI-01009\n",
      "715\n",
      "http://archivo.comisiondelaverdad.co/explora/detalle/066-CI-01010\n",
      "715\n",
      "http://archivo.comisiondelaverdad.co/explora/detalle/066-CI-01018\n",
      "715\n",
      "http://archivo.comisiondelaverdad.co/explora/detalle/066-CI-01019\n",
      "715\n",
      "http://archivo.comisiondelaverdad.co/explora/detalle/066-CI-01020\n",
      "715\n",
      "http://archivo.comisiondelaverdad.co/explora/detalle/066-CI-01144\n",
      "715\n",
      "http://archivo.comisiondelaverdad.co/explora/detalle/066-CI-01145\n",
      "715\n",
      "http://archivo.comisiondelaverdad.co/explora/detalle/066-CI-01152\n",
      "715\n",
      "http://archivo.comisiondelaverdad.co/explora/detalle/066-CI-01153\n",
      "715\n",
      "http://archivo.comisiondelaverdad.co/explora/detalle/066-CI-01172\n",
      "715\n",
      "http://archivo.comisiondelaverdad.co/explora/detalle/066-CI-01173\n",
      "715\n",
      "http://archivo.comisiondelaverdad.co/explora/detalle/066-CI-01215\n",
      "715\n",
      "http://archivo.comisiondelaverdad.co/explora/detalle/066-CI-01216\n",
      "715\n",
      "http://archivo.comisiondelaverdad.co/explora/detalle/066-CI-01217\n",
      "715\n",
      "http://archivo.comisiondelaverdad.co/explora/detalle/066-CI-01235\n",
      "715\n",
      "http://archivo.comisiondelaverdad.co/explora/detalle/066-CI-01240\n",
      "715\n",
      "http://archivo.comisiondelaverdad.co/explora/detalle/066-CI-01273\n",
      "715\n",
      "http://archivo.comisiondelaverdad.co/explora/detalle/066-CI-01274\n",
      "715\n",
      "http://archivo.comisiondelaverdad.co/explora/detalle/066-CI-01310\n",
      "715\n",
      "http://archivo.comisiondelaverdad.co/explora/detalle/066-CI-01463\n",
      "715\n",
      "http://archivo.comisiondelaverdad.co/explora/detalle/086-CI-00371\n",
      "715\n",
      "http://archivo.comisiondelaverdad.co/explora/detalle/086-CI-00372\n",
      "715\n",
      "http://archivo.comisiondelaverdad.co/explora/detalle/086-CI-01164\n",
      "715\n",
      "http://archivo.comisiondelaverdad.co/explora/detalle/086-CI-01257\n",
      "715\n",
      "http://archivo.comisiondelaverdad.co/explora/detalle/086-CI-01277\n",
      "715\n",
      "http://archivo.comisiondelaverdad.co/explora/detalle/086-CI-01340\n",
      "715\n",
      "http://archivo.comisiondelaverdad.co/explora/detalle/086-CI-01590\n",
      "715\n",
      "http://archivo.comisiondelaverdad.co/explora/detalle/086-CI-01876\n",
      "715\n",
      "http://archivo.comisiondelaverdad.co/explora/detalle/086-CI-01877\n",
      "715\n",
      "http://archivo.comisiondelaverdad.co/explora/detalle/086-CI-01994\n",
      "715\n",
      "http://archivo.comisiondelaverdad.co/explora/detalle/086-CI-02037\n",
      "715\n",
      "http://archivo.comisiondelaverdad.co/explora/detalle/086-CI-02038\n",
      "715\n",
      "http://archivo.comisiondelaverdad.co/explora/detalle/095-CI-01745\n",
      "715\n",
      "http://archivo.comisiondelaverdad.co/explora/detalle/110-CI-00217\n",
      "715\n",
      "http://archivo.comisiondelaverdad.co/explora/detalle/110-CI-00221\n",
      "715\n",
      "http://archivo.comisiondelaverdad.co/explora/detalle/110-CI-00528\n",
      "715\n",
      "http://archivo.comisiondelaverdad.co/explora/detalle/1108-CI-00856\n",
      "715\n",
      "http://archivo.comisiondelaverdad.co/explora/detalle/1108-CI-01198\n",
      "715\n",
      "http://archivo.comisiondelaverdad.co/explora/detalle/1108-CI-01985\n",
      "715\n",
      "http://archivo.comisiondelaverdad.co/explora/detalle/1180-CI-01015\n",
      "715\n",
      "http://archivo.comisiondelaverdad.co/explora/detalle/1180-CI-01022\n",
      "715\n",
      "http://archivo.comisiondelaverdad.co/explora/detalle/1180-CI-01024\n",
      "715\n",
      "http://archivo.comisiondelaverdad.co/explora/detalle/1180-CI-01130\n",
      "715\n",
      "http://archivo.comisiondelaverdad.co/explora/detalle/1180-CI-01133\n",
      "715\n",
      "http://archivo.comisiondelaverdad.co/explora/detalle/1180-CI-01136\n",
      "715\n",
      "http://archivo.comisiondelaverdad.co/explora/detalle/1180-CI-01139\n",
      "715\n",
      "http://archivo.comisiondelaverdad.co/explora/detalle/1180-CI-01141\n",
      "715\n",
      "http://archivo.comisiondelaverdad.co/explora/detalle/1180-CI-01143\n",
      "715\n",
      "http://archivo.comisiondelaverdad.co/explora/detalle/1180-CI-01148\n",
      "715\n",
      "http://archivo.comisiondelaverdad.co/explora/detalle/1180-CI-01150\n",
      "715\n",
      "http://archivo.comisiondelaverdad.co/explora/detalle/1180-CI-01628\n",
      "715\n",
      "http://archivo.comisiondelaverdad.co/explora/detalle/1180-CI-01629\n",
      "715\n",
      "http://archivo.comisiondelaverdad.co/explora/detalle/119-CI-00001\n",
      "715\n",
      "http://archivo.comisiondelaverdad.co/explora/detalle/119-CI-00002\n",
      "715\n",
      "http://archivo.comisiondelaverdad.co/explora/detalle/119-CI-00003\n",
      "715\n",
      "http://archivo.comisiondelaverdad.co/explora/detalle/119-CI-00016\n",
      "715\n",
      "http://archivo.comisiondelaverdad.co/explora/detalle/119-CI-00027\n",
      "715\n",
      "http://archivo.comisiondelaverdad.co/explora/detalle/119-CI-00028\n",
      "715\n",
      "http://archivo.comisiondelaverdad.co/explora/detalle/119-CI-00029\n",
      "715\n",
      "http://archivo.comisiondelaverdad.co/explora/detalle/119-CI-00032\n",
      "715\n",
      "http://archivo.comisiondelaverdad.co/explora/detalle/119-CI-00033\n",
      "715\n",
      "http://archivo.comisiondelaverdad.co/explora/detalle/119-CI-00038\n",
      "715\n",
      "http://archivo.comisiondelaverdad.co/explora/detalle/119-CI-00042\n",
      "715\n",
      "http://archivo.comisiondelaverdad.co/explora/detalle/119-CI-00045\n",
      "715\n",
      "http://archivo.comisiondelaverdad.co/explora/detalle/119-CI-00046\n",
      "715\n",
      "http://archivo.comisiondelaverdad.co/explora/detalle/119-CI-00047\n",
      "715\n",
      "http://archivo.comisiondelaverdad.co/explora/detalle/119-CI-00048\n",
      "715\n",
      "http://archivo.comisiondelaverdad.co/explora/detalle/119-CI-00049\n",
      "715\n",
      "http://archivo.comisiondelaverdad.co/explora/detalle/119-CI-00050\n",
      "715\n",
      "http://archivo.comisiondelaverdad.co/explora/detalle/119-CI-00052\n",
      "715\n",
      "http://archivo.comisiondelaverdad.co/explora/detalle/119-CI-00053\n",
      "715\n",
      "http://archivo.comisiondelaverdad.co/explora/detalle/119-CI-00058\n",
      "715\n",
      "http://archivo.comisiondelaverdad.co/explora/detalle/119-CI-00063\n",
      "715\n",
      "http://archivo.comisiondelaverdad.co/explora/detalle/119-CI-00064\n",
      "715\n",
      "http://archivo.comisiondelaverdad.co/explora/detalle/119-CI-00065\n",
      "715\n",
      "http://archivo.comisiondelaverdad.co/explora/detalle/119-CI-00066\n",
      "715\n",
      "http://archivo.comisiondelaverdad.co/explora/detalle/119-CI-00067\n",
      "715\n"
     ]
    }
   ],
   "source": [
    "# Imprimir la lista de diccionarios\n",
    "for i in range(len(report_list)-600 ):\n",
    "    print(report_list[i][\"url\"])\n",
    "    print(len(report_list))"
   ]
  },
  {
   "cell_type": "code",
   "execution_count": null,
   "metadata": {
    "executionInfo": {
     "elapsed": 10,
     "status": "ok",
     "timestamp": 1725496292454,
     "user": {
      "displayName": "JUAN DAVID TOVAR MONTOYA",
      "userId": "14736496696284851781"
     },
     "user_tz": 300
    },
    "id": "3pkWGE5Nrvrp"
   },
   "outputs": [],
   "source": [
    "from selenium import webdriver\n",
    "from selenium.webdriver.chrome.service import Service\n",
    "from selenium.webdriver.common.by import By\n",
    "import time\n",
    "import os\n",
    "import shutil\n",
    "\n",
    "download_errors = []"
   ]
  },
  {
   "cell_type": "code",
   "execution_count": null,
   "metadata": {
    "colab": {
     "base_uri": "https://localhost:8080/"
    },
    "executionInfo": {
     "elapsed": 372218,
     "status": "ok",
     "timestamp": 1724094943336,
     "user": {
      "displayName": "JUAN DAVID TOVAR MONTOYA",
      "userId": "14736496696284851781"
     },
     "user_tz": 300
    },
    "id": "3NYIkkjE-ddi",
    "outputId": "972c2fd7-3184-44e6-c015-57df4345bbad"
   },
   "outputs": [
    {
     "name": "stdout",
     "output_type": "stream",
     "text": [
      "http://archivo.comisiondelaverdad.co/explora/detalle/748-CI-00803\n",
      "list index out of range\n",
      "Ocurrió un error: 678 748-CI-00803\n",
      "http://archivo.comisiondelaverdad.co/explora/detalle/748-CI-00810\n",
      "Encontrado\n",
      "5fee7e009e8b013f2694b067.pdf\n",
      "Destination path '/content/drive/MyDrive/Tesis/reports-pdf/748-CI-00810.pdf' already exists\n",
      "Ocurrió un error: 679 748-CI-00810\n",
      "http://archivo.comisiondelaverdad.co/explora/detalle/748-CI-00811\n",
      "Encontrado\n",
      "5fee7e029e8b013f2694b07b.pdf\n",
      "Destination path '/content/drive/MyDrive/Tesis/reports-pdf/748-CI-00811.pdf' already exists\n",
      "Ocurrió un error: 680 748-CI-00811\n",
      "http://archivo.comisiondelaverdad.co/explora/detalle/748-CI-00812\n",
      "Encontrado\n",
      "5fee7e039e8b013f2694b085.pdf\n",
      "Destination path '/content/drive/MyDrive/Tesis/reports-pdf/748-CI-00812.pdf' already exists\n",
      "Ocurrió un error: 681 748-CI-00812\n",
      "http://archivo.comisiondelaverdad.co/explora/detalle/748-CI-00813\n",
      "Encontrado\n",
      "5fee7e0e9e8b013f2694b0d4.pdf\n",
      "Destination path '/content/drive/MyDrive/Tesis/reports-pdf/748-CI-00813.pdf' already exists\n",
      "Ocurrió un error: 682 748-CI-00813\n",
      "http://archivo.comisiondelaverdad.co/explora/detalle/748-CI-00839\n",
      "Encontrado\n",
      "5fee7ef09e8b013f2694b7cb.pdf\n",
      "Destination path '/content/drive/MyDrive/Tesis/reports-pdf/748-CI-00839.pdf' already exists\n",
      "Ocurrió un error: 683 748-CI-00839\n",
      "http://archivo.comisiondelaverdad.co/explora/detalle/748-CI-00840\n",
      "Encontrado\n",
      "5fee7efc9e8b013f2694b824.pdf\n",
      "Destination path '/content/drive/MyDrive/Tesis/reports-pdf/748-CI-00840.pdf' already exists\n",
      "Ocurrió un error: 684 748-CI-00840\n",
      "http://archivo.comisiondelaverdad.co/explora/detalle/748-CI-00841\n",
      "Encontrado\n",
      "5fee7f059e8b013f2694b86a.pdf\n",
      "Destination path '/content/drive/MyDrive/Tesis/reports-pdf/748-CI-00841.pdf' already exists\n",
      "Ocurrió un error: 685 748-CI-00841\n",
      "http://archivo.comisiondelaverdad.co/explora/detalle/748-CI-00847\n",
      "list index out of range\n",
      "Ocurrió un error: 686 748-CI-00847\n",
      "http://archivo.comisiondelaverdad.co/explora/detalle/748-CI-00852\n",
      "Encontrado\n",
      "5fee7f4e9e8b013f2694bd83.pdf\n",
      "http://archivo.comisiondelaverdad.co/explora/detalle/748-CI-00853\n",
      "Encontrado\n",
      "5fee7f5b9e8b013f2694bdf0.pdf\n",
      "http://archivo.comisiondelaverdad.co/explora/detalle/748-CI-00855\n",
      "Encontrado\n",
      "5fee7f729e8b013f2694bea5.pdf\n",
      "http://archivo.comisiondelaverdad.co/explora/detalle/748-CI-00857\n",
      "Encontrado\n",
      "5fee7f949e8b013f2694bfb0.pdf\n",
      "http://archivo.comisiondelaverdad.co/explora/detalle/748-CI-00858\n",
      "Encontrado\n",
      "5fee7f9d9e8b013f2694bff4.pdf\n",
      "http://archivo.comisiondelaverdad.co/explora/detalle/748-CI-00859\n",
      "Encontrado\n",
      "5fee7fa79e8b013f2694c044.pdf\n",
      "http://archivo.comisiondelaverdad.co/explora/detalle/748-CI-00860\n",
      "Encontrado\n",
      "5fee7faf9e8b013f2694c081.pdf\n",
      "http://archivo.comisiondelaverdad.co/explora/detalle/748-CI-00861\n",
      "Encontrado\n",
      "5fee7fb39e8b013f2694c0a1.pdf\n",
      "http://archivo.comisiondelaverdad.co/explora/detalle/748-CI-00862\n",
      "Encontrado\n",
      "5fee7fb49e8b013f2694c0aa.pdf\n",
      "http://archivo.comisiondelaverdad.co/explora/detalle/748-CI-00863\n",
      "Encontrado\n",
      "list index out of range\n",
      "Ocurrió un error: 696 748-CI-00863\n",
      "http://archivo.comisiondelaverdad.co/explora/detalle/748-CI-00864\n",
      "Encontrado\n",
      "5fee7fbe9e8b013f2694c0f9.pdf\n",
      "http://archivo.comisiondelaverdad.co/explora/detalle/748-CI-00865\n",
      "Encontrado\n",
      "5fee7fc89e8b013f2694c14a.pdf\n",
      "http://archivo.comisiondelaverdad.co/explora/detalle/748-CI-00866\n",
      "Encontrado\n",
      "5fee7fd39e8b013f2694c19b.pdf\n",
      "http://archivo.comisiondelaverdad.co/explora/detalle/748-CI-00867\n",
      "Encontrado\n",
      "5fee7fd59e8b013f2694c1b3.pdf\n",
      "http://archivo.comisiondelaverdad.co/explora/detalle/748-CI-00868\n",
      "5fee7fd09e8b013f2694c186.pdf\n",
      "http://archivo.comisiondelaverdad.co/explora/detalle/748-CI-00869\n",
      "list index out of range\n",
      "Ocurrió un error: 702 748-CI-00869\n",
      "http://archivo.comisiondelaverdad.co/explora/detalle/748-CI-00870\n",
      "list index out of range\n",
      "Ocurrió un error: 703 748-CI-00870\n",
      "http://archivo.comisiondelaverdad.co/explora/detalle/748-CI-00871\n",
      "Encontrado\n",
      "5fee7fe69e8b013f2694c235.pdf\n",
      "http://archivo.comisiondelaverdad.co/explora/detalle/748-CI-00872\n",
      "Encontrado\n",
      "5fee7feb9e8b013f2694c25d.pdf\n",
      "http://archivo.comisiondelaverdad.co/explora/detalle/748-CI-00879\n",
      "Encontrado\n",
      "5fee80319e8b013f2694c480.pdf\n",
      "http://archivo.comisiondelaverdad.co/explora/detalle/748-CI-00887\n",
      "Encontrado\n",
      "5fee80a09e8b013f2694c7dd.pdf\n",
      "http://archivo.comisiondelaverdad.co/explora/detalle/748-CI-00888\n",
      "Encontrado\n",
      "5fee80b59e8b013f2694c87d.pdf\n",
      "http://archivo.comisiondelaverdad.co/explora/detalle/748-CI-00889\n",
      "Encontrado\n",
      "5fee80c09e8b013f2694c8d7.pdf\n",
      "http://archivo.comisiondelaverdad.co/explora/detalle/748-CI-00890\n",
      "Encontrado\n",
      "6089177cb5ef6a0c98ad6382.pdf\n",
      "http://archivo.comisiondelaverdad.co/explora/detalle/748-CI-00891\n",
      "Encontrado\n",
      "5fee80df9e8b013f2694c9ca.pdf\n",
      "http://archivo.comisiondelaverdad.co/explora/detalle/748-CI-00895\n",
      "Encontrado\n",
      "5fee813c9e8b013f2694cc96.pdf\n",
      "http://archivo.comisiondelaverdad.co/explora/detalle/748-CI-00896\n",
      "Encontrado\n",
      "607f0168b5ef6a0c98564e34.pdf\n",
      "http://archivo.comisiondelaverdad.co/explora/detalle/975-CI-00913\n",
      "Encontrado\n",
      "list index out of range\n",
      "Ocurrió un error: 714 975-CI-00913\n"
     ]
    }
   ],
   "source": [
    "\n",
    "options = webdriver.ChromeOptions()\n",
    "options.add_argument('--headless')\n",
    "options.add_argument('--no-sandbox')\n",
    "options.add_argument('--disable-dev-shm-usage')\n",
    "options.add_argument('--window-size=1920x1080')\n",
    "\n",
    "# Crear instancia del navegador\n",
    "driver = webdriver.Chrome(service=Service(), options=options)\n",
    "\n",
    "for i in range(0,715):\n",
    "  try:\n",
    "\n",
    "    # Iterar sobre la lista de URLs\n",
    "    print(report_list[i][\"url\"])\n",
    "\n",
    "    driver.get(report_list[i][\"url\"])\n",
    "\n",
    "    # loading web page\n",
    "    time.sleep(4)\n",
    "        # Buscar el botón de descarga (ajusta el selector según el botón)\n",
    "    svg_elements = driver.find_elements(By.TAG_NAME, 'svg')\n",
    "    for svg in svg_elements:\n",
    "        if svg.get_attribute(\"data-testid\") == \"DownloadForOfflineTwoToneIcon\":\n",
    "            print(\"Encontrado\")\n",
    "            svg.click()\n",
    "            break\n",
    "\n",
    "    # download witing\n",
    "    time.sleep(5)\n",
    "\n",
    "\n",
    "    download_folder = '/content/'\n",
    "\n",
    "  # Listar todos los archivos en la carpeta y filtrar solo los archivos PDF\n",
    "    archivos_pdf = [f for f in os.listdir(download_folder) if f.endswith('.pdf')]\n",
    "\n",
    "    downloaded_file = archivos_pdf[0]\n",
    "    print(downloaded_file)\n",
    "    ruta_actual = '/content/'+downloaded_file\n",
    "\n",
    "    # Nueva ruta con el nuevo nombre del archivo\n",
    "    nueva_ruta = '/content/'+report_list[i][\"ident\"]+'.pdf'\n",
    "\n",
    "    # Cambiar el nombre del archivo\n",
    "    os.rename(ruta_actual, nueva_ruta)\n",
    "\n",
    "    archivo_origen = nueva_ruta\n",
    "\n",
    "  # Ruta de la carpeta de destino\n",
    "    carpeta_destino = '/content/drive/MyDrive/Tesis/reports-pdf'\n",
    "\n",
    "    # Mover el archivo a la nueva carpeta\n",
    "    archivo_destino = shutil.move(archivo_origen, carpeta_destino)\n",
    "  except  Exception as e:\n",
    "\n",
    "      print(e)\n",
    "      print(f\"Ocurrió un error: \"+str(i)+\" \"+str(report_list[i][\"ident\"]))\n",
    "      if os.path.exists(nueva_ruta):\n",
    "        os.remove(nueva_ruta)\n",
    "      download_errors.append(str(i)+\" \"+str(report_list[i][\"ident\"])+\" \"+str(e))\n",
    "      continue\n",
    "driver.quit()\n",
    "# download_button.click()\n",
    "\n",
    "    # Puedes agregar una pausa si es necesario\n",
    "\n",
    "# Cambiar a la nueva pestaña\n",
    "# driver.switch_to.window(driver.window_handles[1])\n",
    "# print(driver.window_handles[1])\n",
    "# Obtener la URL del PDF\n",
    "\n",
    "# Cerrar el navegador\n",
    "\n"
   ]
  },
  {
   "cell_type": "code",
   "execution_count": 11,
   "metadata": {
    "colab": {
     "base_uri": "https://localhost:8080/"
    },
    "executionInfo": {
     "elapsed": 405,
     "status": "ok",
     "timestamp": 1725497796373,
     "user": {
      "displayName": "JUAN DAVID TOVAR MONTOYA",
      "userId": "14736496696284851781"
     },
     "user_tz": 300
    },
    "id": "vPcSSuG8co8z",
    "outputId": "7ded0d99-7bc3-4504-be90-2cf097752b4c"
   },
   "outputs": [
    {
     "name": "stdout",
     "output_type": "stream",
     "text": [
      "[]\n"
     ]
    }
   ],
   "source": [
    "# Save errors\n",
    "print(download_errors)\n",
    "\n",
    "array_strings = download_errors\n",
    "# Abrir (o crear) el archivo para escritura\n",
    "with open('/download_errors.txt', 'w') as archivo:\n",
    "    for linea in array_strings:\n",
    "        archivo.write(linea + '\\n')  # Escribe cada string seguido de un salto de línea\n"
   ]
  },
  {
   "cell_type": "code",
   "execution_count": 20,
   "metadata": {
    "colab": {
     "base_uri": "https://localhost:8080/"
    },
    "executionInfo": {
     "elapsed": 1005,
     "status": "ok",
     "timestamp": 1725496408931,
     "user": {
      "displayName": "JUAN DAVID TOVAR MONTOYA",
      "userId": "14736496696284851781"
     },
     "user_tz": 300
    },
    "id": "Z2s8mdA1BHe_",
    "outputId": "8563ceed-04f0-4c62-c0c8-512d4be7cf71"
   },
   "outputs": [
    {
     "name": "stdout",
     "output_type": "stream",
     "text": [
      "Downloaded:  693\n",
      "Could be: 715\n"
     ]
    }
   ],
   "source": [
    "\n",
    "# Count downloaded files\n",
    "download_folder =sources_folder_prefix + '/reports-pdf'#'/content/drive/MyDrive/Tesis/reports-pdf'\n",
    "\n",
    "# list all pdf in folder\n",
    "archivos_pdf = [f for f in os.listdir(download_folder) if f.endswith('.pdf')]\n",
    "print(\"Downloaded: \",len(archivos_pdf))\n",
    "print(\"Could be:\",len(report_list))"
   ]
  },
  {
   "cell_type": "code",
   "execution_count": 22,
   "metadata": {
    "colab": {
     "base_uri": "https://localhost:8080/"
    },
    "executionInfo": {
     "elapsed": 476,
     "status": "ok",
     "timestamp": 1725497753519,
     "user": {
      "displayName": "JUAN DAVID TOVAR MONTOYA",
      "userId": "14736496696284851781"
     },
     "user_tz": 300
    },
    "id": "v_05jIqgpM2Z",
    "outputId": "883b9e8b-cc33-431c-f5fb-f57fc99447dd"
   },
   "outputs": [
    {
     "name": "stdout",
     "output_type": "stream",
     "text": [
      "http://archivo.comisiondelaverdad.co/explora/detalle/086-CI-02037\n",
      "http://archivo.comisiondelaverdad.co/explora/detalle/1180-CI-01628\n",
      "http://archivo.comisiondelaverdad.co/explora/detalle/1180-CI-01629\n",
      "http://archivo.comisiondelaverdad.co/explora/detalle/119-CI-00038\n",
      "http://archivo.comisiondelaverdad.co/explora/detalle/1306-CI-01928\n",
      "http://archivo.comisiondelaverdad.co/explora/detalle/1306-CI-02027\n",
      "http://archivo.comisiondelaverdad.co/explora/detalle/1308-CI-02023\n",
      "http://archivo.comisiondelaverdad.co/explora/detalle/365-CI-00977\n",
      "http://archivo.comisiondelaverdad.co/explora/detalle/365-CI-01190\n",
      "http://archivo.comisiondelaverdad.co/explora/detalle/365-CI-01335\n",
      "http://archivo.comisiondelaverdad.co/explora/detalle/365-CI-01367\n",
      "http://archivo.comisiondelaverdad.co/explora/detalle/365-CI-01580\n",
      "http://archivo.comisiondelaverdad.co/explora/detalle/365-CI-01661\n",
      "http://archivo.comisiondelaverdad.co/explora/detalle/365-CI-01931\n",
      "http://archivo.comisiondelaverdad.co/explora/detalle/748-CI-00535\n",
      "http://archivo.comisiondelaverdad.co/explora/detalle/748-CI-00544\n",
      "http://archivo.comisiondelaverdad.co/explora/detalle/748-CI-00803\n",
      "http://archivo.comisiondelaverdad.co/explora/detalle/748-CI-00847\n",
      "http://archivo.comisiondelaverdad.co/explora/detalle/748-CI-00863\n",
      "http://archivo.comisiondelaverdad.co/explora/detalle/748-CI-00869\n",
      "http://archivo.comisiondelaverdad.co/explora/detalle/748-CI-00870\n",
      "http://archivo.comisiondelaverdad.co/explora/detalle/975-CI-00913\n"
     ]
    }
   ],
   "source": [
    "# verify if all documents was downloaded\n",
    "missing_files = []\n",
    "pdf_reports_folder= sources_folder_prefix+'/reports-pdf'\n",
    "for i, report in enumerate(report_list):\n",
    "  if not os.path.exists(pdf_reports_folder + \"/\"+report[\"ident\"]+\".pdf\"):\n",
    "    missing_files.append(report[\"url\"])\n",
    "\n",
    "\n",
    "for url in missing_files :\n",
    "  print(url)\n"
   ]
  },
  {
   "cell_type": "code",
   "execution_count": 23,
   "metadata": {
    "colab": {
     "base_uri": "https://localhost:8080/"
    },
    "executionInfo": {
     "elapsed": 423,
     "status": "ok",
     "timestamp": 1725498267027,
     "user": {
      "displayName": "JUAN DAVID TOVAR MONTOYA",
      "userId": "14736496696284851781"
     },
     "user_tz": 300
    },
    "id": "V5fhXzPWteer",
    "outputId": "555a4aab-08ea-4360-f2f3-81a928ad546f"
   },
   "outputs": [
    {
     "data": {
      "text/plain": [
       "22"
      ]
     },
     "execution_count": 23,
     "metadata": {},
     "output_type": "execute_result"
    }
   ],
   "source": [
    "len(missing_files)"
   ]
  }
 ],
 "metadata": {
  "colab": {
   "provenance": []
  },
  "kernelspec": {
   "display_name": ".conda",
   "language": "python",
   "name": "python3"
  },
  "language_info": {
   "codemirror_mode": {
    "name": "ipython",
    "version": 3
   },
   "file_extension": ".py",
   "mimetype": "text/x-python",
   "name": "python",
   "nbconvert_exporter": "python",
   "pygments_lexer": "ipython3",
   "version": "3.11.10"
  }
 },
 "nbformat": 4,
 "nbformat_minor": 0
}
