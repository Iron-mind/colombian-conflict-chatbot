{
 "cells": [
  {
   "cell_type": "markdown",
   "metadata": {},
   "source": [
    "# RAG Application: Ask Questions from a PDF Document using Large Language Models"
   ]
  },
  {
   "cell_type": "markdown",
   "metadata": {},
   "source": [
    "Retrieval-Augmented Generation (RAG) is a generative AI framework that combines pre-trained large language models (LLMs) with external data sources. RAG improves the output of LLMs by using fresh data from authoritative knowledge bases and enterprise systems to generate more reliable responses.\n",
    "\n",
    "For example, this project is about using RAG to ask questions from a PDF document. The RAG system uses its large language model to understand the question, then it retrieves relevant information from the PDF document, and finally generates a response. This way, we can extract precise information from a document."
   ]
  },
  {
   "cell_type": "markdown",
   "metadata": {},
   "source": [
    "## 0. Setup Ollama\n",
    "\n",
    "I used [Ollama](https://ollama.com) because it's the easiest way to get up and running with large language models, locally on my computer.\n",
    "\n",
    "In this case, I used [TinyLlama](https://arxiv.org/pdf/2401.02385.pdf) model by StatNLP Research Group and \n",
    "Singapore University of Technology and Design.\n",
    "\n",
    "On your terminal, run:\n",
    "\n",
    "```bash\n",
    "ollama run tinyllama\n",
    "```"
   ]
  },
  {
   "cell_type": "markdown",
   "metadata": {},
   "source": [
    "## 1. Loading Environment Variables and Setting Up the Model"
   ]
  },
  {
   "cell_type": "code",
   "execution_count": 2,
   "metadata": {},
   "outputs": [],
   "source": [
    "import os\n",
    "from dotenv import load_dotenv\n",
    "\n",
    "# If you want to use the OpenAI API, you need to set the OPENAI_API_KEY environment variable\n",
    "load_dotenv()\n",
    "OPENAI_API_KEY = os.getenv(\"OPENAI_API_KEY\")\n",
    "#MODEL = \"gpt-3.5-turbo\"\n",
    "\n",
    "MODEL = \"tinyllama\""
   ]
  },
  {
   "cell_type": "markdown",
   "metadata": {},
   "source": [
    "## 2. Prepare Embeddings and Test the Model"
   ]
  },
  {
   "cell_type": "code",
   "execution_count": 3,
   "metadata": {},
   "outputs": [
    {
     "data": {
      "text/plain": [
       "'Machine learning (ML) is a field that enables computers to learn from data without being explicitly programmed. It helps computers to perform tasks by identifying patterns and making decisions based on the data fed into them. In essence, ML uses algorithms that can learn and improve on their own based on new data points or experiences.'"
      ]
     },
     "execution_count": 3,
     "metadata": {},
     "output_type": "execute_result"
    }
   ],
   "source": [
    "from langchain_community.llms import Ollama\n",
    "from langchain_openai.chat_models import ChatOpenAI\n",
    "from langchain_community.embeddings import OllamaEmbeddings\n",
    "from langchain_openai.embeddings import OpenAIEmbeddings\n",
    "\n",
    "if MODEL.startswith(\"gpt\"):\n",
    "    model = ChatOpenAI(openai_api_key=OPENAI_API_KEY, model=MODEL)\n",
    "    embeddings = OpenAIEmbeddings()\n",
    "else:\n",
    "    model = Ollama(model=MODEL)\n",
    "    embeddings = OllamaEmbeddings(model=MODEL)\n",
    "\n",
    "model.invoke(\"what is machine learning in a few words?\")"
   ]
  },
  {
   "cell_type": "code",
   "execution_count": 8,
   "metadata": {},
   "outputs": [
    {
     "data": {
      "text/plain": [
       "'Machine Learning (ML) is a field of Artificial Intelligence that enables computers to learn from data without being explicitly programmed. ML uses algorithms and statistical models to identify patterns and make predictions based on large amounts of historical data or real-world observations. It has numerous applications in fields such as healthcare, finance, logistics, and e-commerce, where it can improve accuracy, efficiency, and profitability. Machine learning is a versatile technique that can be applied in various fields, including computer vision, natural language processing (NLP), data mining, and robotics.'"
      ]
     },
     "execution_count": 8,
     "metadata": {},
     "output_type": "execute_result"
    }
   ],
   "source": [
    "from langchain_core.output_parsers import StrOutputParser\n",
    "\n",
    "parser = StrOutputParser()\n",
    "\n",
    "chain = model | parser \n",
    "chain.invoke(\"what is machine learning in a few words?\")"
   ]
  },
  {
   "cell_type": "markdown",
   "metadata": {},
   "source": [
    "## 3. Load the PDF Document"
   ]
  },
  {
   "cell_type": "code",
   "execution_count": 4,
   "metadata": {},
   "outputs": [
    {
     "name": "stderr",
     "output_type": "stream",
     "text": [
      "Ignoring wrong pointing object 9 0 (offset 0)\n",
      "Ignoring wrong pointing object 19 0 (offset 0)\n",
      "Ignoring wrong pointing object 21 0 (offset 0)\n",
      "Ignoring wrong pointing object 23 0 (offset 0)\n",
      "Ignoring wrong pointing object 41 0 (offset 0)\n",
      "Ignoring wrong pointing object 49 0 (offset 0)\n",
      "Ignoring wrong pointing object 137 0 (offset 0)\n"
     ]
    },
    {
     "data": {
      "text/plain": [
       "[Document(metadata={'source': './../../../reports-pdf/058-CI-00233.pdf', 'page': 0}, page_content='1'),\n",
       " Document(metadata={'source': './../../../reports-pdf/058-CI-00233.pdf', 'page': 1}, page_content='2 \\nSeñores grupo de gestión documental  Comisión de la Verdad Asunto: Entrega de Informe a la Comisión de la Verdad Remitente: Agroarte Colombia Firma:    Luis Fernando Álvarez Ramírez “AKA” Representante Legal – Director Ejecutivo Agroarte Colombia Contacto: (+57) 3147123031 www.agroartecolombia.co agroarte@agroartecolombia.co aka@agroartecolombia.co  \\n Katerin Delgado Franco presidenta-Directora General Agroarte Colombia Contacto: (+57) 3233885964 www.agroartecolombia.co agroarte@agroartecolombia.co katerindfranco@agroartecolombia.co   RESUMEN  Argumentación en favor del reconocimiento y dotación de protección jurídica a los espacios físicos de memoria generados por la interacción de las victimas y la sociedad civil en los territorios.  Objetivo de reivindicar y contribuir a evitar la desaparición de estos lugares que entronca con el mandato que el punto 12 del artículo 11 del Decreto 588 de 2018 da a la Comisión de la Verdad cuando le impele a “promover el reconocimiento de los procesos de fortalecimiento del tejido social en las comunidades y las experiencias de resilencia individual o colectiva”. Referencia a una práctica global y permanente en el tiempo a través de la resignificación como espacio de la memoria desde el año 2017 del cementerio de La América situado en la Comuna 13 de Medellín. Este informe pretende colaborar con la Comisión en su labor de evitar que se pierdan y desaparezcan las iniciativas sociales con capacidad de construir memoria colectiva y de contribuir a la generación de nuevos marcos de convivencia destinados a la consolidación de la paz. La configuración de los espacios físicos referidos como auténticos lugares de la memoria histórica que contribuyen a su construcción colectiva merece una'),\n",
       " Document(metadata={'source': './../../../reports-pdf/058-CI-00233.pdf', 'page': 2}, page_content='3 \\nprotección jurídica destinada a su reconocimiento y pervivencia que el ordenamiento jurídico colombiano no contempla en la actualidad. Por este motivo se propone la inclusión en el informe final de una referencia al valor de este tipo de iniciativas, así como la recomendación de propugnar la emisión de una Ley de Memoria Histórica que incluya un procedimiento adecuado de reconocimiento, identificación y protección de los espacios de memoria generados por la interacción de víctimas y sociedad civil en los territorios.    Índice.  Información básica _______________________________________________ 4 a. Tema del informe ________________________________________ 4 b. Delimitación espacial y temporal del informe __________________ 5 c. Identificación del grupo que presenta el informe ________________ 5 d. Relevancia del informe ____________________________________ 5  Metodología ____________________________________________________ 6 Hallazgos y análisis _______________________________________________7 Razones por las que los emplazamientos elegidos por las víctimas y la acción civil para la exposición y generación de los relatos acerca de lo ocurrido durante el conflicto bélico merecen ser conocidos, respetados y amparados por el conjunto de la sociedad y por las instituciones públicas __________________________________________________________7 La preceptiva protección jurídica de los lugares de la memoria histórica _________________________________________________________15 Conclusiones y recomendaciones ____________________________________24 Fuentes ________________________________________________________25 Anexo _________________________________________________________29'),\n",
       " Document(metadata={'source': './../../../reports-pdf/058-CI-00233.pdf', 'page': 3}, page_content='4 \\n INFORMACIÓN BÁSICA  a. Tema del informe  Argumentación y justificación de la necesidad de explicitar el reconocimiento y reivindicación de los espacios o lugares de memoria histórica constituidos, resignificados, por la interacción de iniciativas de la sociedad civil y de las víctimas en los territorios, así como de la conveniencia de articular para ellos una adecuada protección jurídica.  El objetivo de garantizar la pervivencia de los entornos físicos en los que se materializan las acciones desarrolladas por víctimas y colectivos sociales que contribuyen a generar los relatos constitutivos de la memoria del conflicto en distintos puntos de Colombia se inserta, dentro del mandato que el art. 11 del Decreto 588 de 2017 atribuye a la Comisión de la Verdad, en la temática correspondiente a “los procesos de afrontamiento de los hechos, de fortalecimiento del tejido social y transformación positiva de las personas y las comunidades, así como las formas de resistencia de las organizaciones en el medio de la guerra”1. Siendo la valoración y defensa de estos emplazamientos un modo de cumplir con la directriz de promover el reconocimiento de “los procesos de fortalecimiento del tejido social en las comunidades y las experiencias de resilencia individual o colectiva” que el Decreto 588 de 2017 establece en el punto 12 de su artículo 11. La pretensión de que la Comisión de la Verdad incluya entre las recomendaciones de su informe final el reconocimiento del valor que estas iniciativas tienen para contribuir a mejorar la convivencia y colaborar con la generación de un contexto social dirigido a garantizar la no repetición entronca con la función de “investigación de los componentes de su mandato, (…), teniendo en cuenta los anteriores esfuerzos de construcción de la verdad” (art. 13.1 del Decreto 588 de 2017) y con la misión de diseñar y desarrollar estrategias de relación con aquellas iniciativas de reconstrucción de memoria caracterizadas por su enfoque territorial y no impulsadas por entidades o instituciones gubernamentales (art. 13.7 del Decreto 588 de 2017).  1 Guía presentación informes Comisión de la Verdad, pág. 4 (https://comisiondelaverdad.co/images/guia-presentacion-informes-comision-verdad.pdf)'),\n",
       " Document(metadata={'source': './../../../reports-pdf/058-CI-00233.pdf', 'page': 4}, page_content='5 \\n b. Delimitación espacial y temporal del informe  Este documento articula una argumentación relativa a un fenómeno y tipo de iniciativa global (que se ha dado en diferentes momentos a lo largo de todo el tiempo de duración del conflicto armado y en diversos puntos del territorio colombiano) con la ejemplificación y referencia concreta a una experiencia desarrollada desde 2017 en Medellín, Antioquia. El análisis, así como las conclusiones y recomendaciones que se derivan de él, se basan en la resignificación como espacio de memoria, convivencia y regeneración del tejido social del cementerio La América, situado en el barrio San Javier, Comuna 13, de Medellín.  c. Identificación del grupo que presenta el informe  Nombre: Agroarte Colombia2 (NIT: 901293279-2) Forma de contacto: agroartecolombia@agroartecolombia.co Colectivo de acción social, memoria, defensa de los derechos humanos, ambientales y territoriales de la Comuna 13 de Medellín  d. Relevancia del informe  La pervivencia y defensa de espacios comunitarios destinados a la configuración de la memoria histórica y a la construcción de bases sólidas de convivencia de distintas comunidades puede estar amenazada a medio y largo plazo por el uso al que se puedan destinar las fincas o predios en los que se asientan. El presente texto defiende la trascendencia de estos lugares tanto para la construcción de memorias e identidades colectivas como para la reparación simbólica de las víctimas por parte de sus conciudadanos (elementos esenciales para la satisfacción inmaterial de las víctimas, la garantía del derecho a la verdad de toda la comunidad y el establecimiento de bases de convivencia que constituyen pilares estructurales de la consolidación de la paz y para cuya  2 Autoría del informe: Ingrid Estíbaliz Sánchez Diez (Doctora en Derecho, CE 654953), por solicitud de Agroarte Colombia. Diseño e ilustraciones Agroarte Colombia. Maquetación e imágenes Pablo Calvo de Castro (Doctor en Comunicación, CE 654950).'),\n",
       " Document(metadata={'source': './../../../reports-pdf/058-CI-00233.pdf', 'page': 5}, page_content='6 \\nconsecución el Acto Legislativo 01 de 2017 incorporó a la Constitución Política los tres mecanismos del Sistema Integral de Verdad, Justicia, Reparación y No Repetición). Asimismo, advierte acerca del riesgo que para la existencia futura de los espacios de memoria generados por la interacción de víctimas y colectivos de acción social supone la falta en el ordenamiento jurídico colombiano de instrumentos normativos con capacidad para otorgarles una protección legal adecuada. Este documento se articula en torno a la convicción de que los sitios de memoria desempeñan un papel esencial en la garantía del derecho a la verdad del conjunto de la sociedad, por la relevancia que tiene la participación de las víctimas, sus familias y la comunidad local en la configuración de una memoria colectiva que entre en diálogo con la oficial patrocinada por el Estado y sirva de dique de contención frente a la futura envestida de tesis revisionistas o negacionistas3. Es la argumentación que apuntala tal convicción la que nos lleva a solicitar a la Comisión de la Verdad el reconocimiento y reivindicación de estos espacios y la propuesta de emisión de una Ley de Memoria Histórica que incluya un procedimiento o mecanismo efectivo de definición, identificación, declaración y protección de lugares memoriales generados por la acción de los colectivos de víctimas y agentes sociales.   METODOLOGÍA  Análisis normativo y de instrumentos declarativos de carácter internacional, complementado con las interpretaciones doctrinales realizadas por distintos textos académicos, y desarrollado con base en el diagnóstico de falta de reconocimiento jurídico, con la consiguiente desprotección, de estos espacios de configuración de la memoria histórica.  Las afirmaciones relativas a la iniciativa que se utiliza en el presente informe para ejemplificar la generalidad de casos objeto del mismo han sido elaboradas a partir de la relación entablada con la asociación Agroarte desde julio de 2019,  3 Instituto de Políticas Públicas en Derechos Humanos del MERCOSUR (IPPDH), Principios fundamentales para las políticas públicas sobre sitios de memoria, Argentina, septiembre 2012, pág. 12.'),\n",
       " Document(metadata={'source': './../../../reports-pdf/058-CI-00233.pdf', 'page': 6}, page_content='7 \\nhabiéndose extraído los datos aportados del documento presentado por el Colectivo Galería Viva a la Convocatoria Ministerio de Cultura Poblaciones: Narrativas culturales de los grupos de interés para la construcción de paz y reconciliación.   HALLAZGOS Y ANÁLISIS   Los argumentos conforme a los que estimamos necesario realizar actuaciones efectivas destinadas al reconocimiento y la protección de los lugares memoriales generados por la interacción de víctimas y colectivos sociales en los territorios entroncan con dos elementos esenciales de la realidad colombiana actual: - El valor de estos espacios para la consecución de una paz estable y duradera por el papel que potencialmente les corresponde en la construcción de memorias e identidades locales,  - La ausencia, en el ordenamiento jurídico colombiano, de fórmulas articuladas que sean útiles para la defensa de su pervivencia en el tiempo.  1. Razones por las que los emplazamientos elegidos por las víctimas y la acción civil para la exposición y generación de los relatos acerca de lo ocurrido durante el conflicto bélico merecen ser conocidos, respetados y amparados por el conjunto de la sociedad y por las instituciones públicas.  a. Los emplazamientos configurados o resignificados por iniciativa de víctimas y colectivos sociales como lugares o sitios de la memoria histórica. Comenzando por establecer con claridad y precisión que tipo de iniciativas son objeto de este informe, debemos recordar que hacemos referencia a todas aquellas en las que la interacción entre colectivos de acción social y víctimas (de cualquiera de las diferentes formas en las que se ha manifestado el conflicto armado) han cristalizado en la configuración de espacios físicos para generar un legado de memoria destinado a honrar y reparar (al menos simbólicamente) a las víctimas y a sus familias, y que tienen entre sus objetivos esenciales los de contribuir a la mejora de la convivencia de las comunidades en las que se insertan y transmitir valores de paz y reconciliación a las generaciones posteriores.'),\n",
       " Document(metadata={'source': './../../../reports-pdf/058-CI-00233.pdf', 'page': 7}, page_content='8 \\nDe esta definición se desprende que el objeto de este informe son entornos físicos que pueden haber sido construidos con los fines descritos o que han visto resignificado su destino original o su finalidad básica. Siguiendo la nomenclatura establecida por documentos declarativos de carácter internacional4 y por las normas de derecho comparado5 que se han tomado en consideración para la redacción del presente informe, en adelante nos vamos a referir a estos emplazamientos como lugares o sitios de memoria. Siendo rigurosos, las referencias iniciales que nos llevarían a conformar una definición de lugar o sitio de memoria histórica los identifican con escenarios de hechos atentatorios contra los derechos humanos6. Algo que dificultaría la aplicación (aunque fuera analógica) del término a espacios que no necesariamente han sido marco de las conductas y acciones que en ellos se pretende relatar para ser recordadas y transmitidas. Sin embargo, son los propios textos y normas estudiados los que nos animan a utilizar el nombre propuesto para referirnos a nuestro objeto de interés. El documento sobre los sitios de memoria elaborado por MERCOSUR precisa que el concepto lugares de memoria alude a los sitios en los que sucedieron los acontecimientos y, también, a los “que, por algún motivo, están vinculados con dichos acontecimientos”7, aclarando que este vínculo puede ser explícito o  4 Por la cercanía geográfica y los nexos culturales e históricos existentes, además de por la tradición de trabajo social y académico y desarrollado en el ámbito temático de la memoria histórica, hemos recurrido al documento elaborado por MERCOSUR en 2012 para establecer en su comunidad unos principios comunes rectores de las políticas públicas sobre sitios de memoria.  5 Lo reciente de su emisión, la temática abordada y los estrechos vínculos de tradición jurídica existentes entre España y Colombia, han determinado la elección de la Ley 2/2017, de 28 de marzo, de Memoria Histórica y Democrática de Andalucía y de la Ley Foral 29/2018, de 26 de diciembre, de lugares de la Memoria Histórica de Navarra.  6 “Allí se encomendó al IPPDH que lleve adelante un estudio sobre los principios fundamentales para la preservación de sitios donde se cometieron graves violaciones a los derechos humanos (…)”, I. Introducción. Mandato del IPPDH y plan de trabajo, MERCOSUR (IPPDH), Principios fundamentales para las políticas públicas sobre sitios de memoria. Op. cit, pág. 3. “Estos son los Lugares de la Memoria Histórica de Navarra, lugares vinculados al terror y la violencia, lugares en los que se cometieron todo tipo de vulneraciones de Derechos Humanos (…)”, Preámbulo de la Ley Foral 29/2018, de 26 de diciembre, de Lugares de la Memoria Histórica de Navarra, pág. 3.  7 MERCOSUR (IPPDH), Principios fundamentales para las políticas públicas sobre sitios de memoria. Óp. cit, pág. 5.'),\n",
       " Document(metadata={'source': './../../../reports-pdf/058-CI-00233.pdf', 'page': 8}, page_content='9 \\nconstruido. Lo que incluye aquellos espacios que, producto de la decisión de referir hechos y evocar su memoria precisamente en ellos, se transforman en memoriales; “aunque, a priori, no tienen una relación directa con los sucesos que se busca transmitir”8. Una técnica semejante utiliza la ley navarra de los lugares de memoria cuando en su Preámbulo, después de definirlos como escenario de violaciones de Derechos Humanos, añade en el párrafo posterior que Lugares de la Memoria Histórica de Navarra son también los lugares construidos por familias, asociaciones o instituciones que quieren preservar el legado de la memoria9. Por su parte, la ley andaluza de memoria democrática ofrece una definición amplia en la que cabrían los sitios objeto de este estudio. La descripción de espacios, inmuebles o parajes que revelen interés por haberse desarrollado en ellos hechos importantes por su significación histórica, simbólica o por su repercusión en la memoria colectiva10 incluiría sin generar problemas conceptuales los emplazamientos en los que víctimas y colectivos civiles trabajan construyendo la memoria de los territorios.  Siendo consecuentes con lo expuesto, estimamos que es adecuado definir como lugares o sitios de la memoria a los espacios que, como el cementerio La América -que opera como ejemplo y representación del objeto de este informe-, han sido elegidos por víctimas y colectivos de acción social para servir de punto de encuentro y soporte a actividades y prácticas memoriales.  Así, la iniciativa Galería Viva tiene su plasmación material en las instalaciones del cementerio La América. Un recinto que es objeto de intervención por parte de colectivos sociales de la Comuna 13 con el objetivo de instaurarlo como lugar de encuentro para generar lazos comunitarios. La resignificación de un camposanto que cuenta a través de su evolución la historia de transformación profunda que vive Medellín11 se dirige a su   8 Nota al píe número 10. Ibídem, pág. 6. 9 Preámbulo de la Ley Foral 29/2018, de 26 de diciembre, de Lugares de la Memoria Histórica de Navarra, pág. 3. 10 Artículo 21. Lugares de Memoria Democrática de Andalucía. Ley 2/2017, de 28 de marzo, de Memoria Histórica y Democrática de Andalucía. 11 Los gestores y responsables del cementerio La América se vieron obligados a ampliar sus instalaciones cuando, a raíz de la violencia urbana que afectó especialmente a la zona'),\n",
       " Document(metadata={'source': './../../../reports-pdf/058-CI-00233.pdf', 'page': 9}, page_content='10 \\nconstitución como lugar de encuentro para la ritualización del dolor de las víctimas y de la comunidad afectada desde ópticas alternativas. Reapropiarse del cementerio (y darle un uso complementario al tradicional) es uno de los medios que los vecinos de la Comuna 13 han encontrado para acompañarse colectivamente en los procesos de transformación del dolor en memoria y en las acciones de resistencia destinadas a comprender que la violencia urbana es un fenómeno que nos afecta a todos.  b. El papel estos lugares en la construcción de memorias en los territorios y su contribución a la consecución de la paz.  La argumentación expuesta en el apartado anterior determina que estimemos que es aplicable a estos emplazamientos la tesis que defiende la esencialidad del derecho a la memoria (y de los sitios que contribuyen a construirla) para la realización efectiva de los derechos a la verdad, a la justicia y a la reparación.  Elementos que son básicos para la satisfacción de los derechos de las víctimas. Satisfacción efectiva que el Acto Legislativo 01 de 2017 considera requisito esencial para la consolidación de la transición y la construcción de una paz estable y duradera en Colombia.12  El propio Decreto 588 de 2017 a través del cual se regula la Comisión de la Verdad reconoce en su considerando que alcanzar dicho horizonte “requiere de manera urgente la adopción de mecanismos concretos para la satisfacción de los derechos de las víctimas” y declara que la Comisión de la Verdad “tiene como objetivo principal garantizar el derecho a la verdad, el cual ha reconocido el Acuerdo Final como un pilar fundamental para la consolidación de la paz”13. \\n noroccidental de Medellín, en 2002 se incrementó sensiblemente el número de muertes de los habitantes del sector. En contraste, actualmente este camposanto enfrenta una dinámica inversa. El paulatino desuso provocado por el cambio de los rituales mortuorios le aboca a un posible abandono. 12 Artículo transitorio 1º y artículo transitorio 2º del Acto Legislativo Nº 01 de 4 de abril de 2017, Por medio del cual se crea un Título de Disposiciones Transitorias de la Constitución para la Terminación del Conflicto Armado y la Construcción de una Paz Estable y Duradera. 13 Página 3 del Considerando del Decreto 588 de 5 de abril de 2017, Por el cual se organiza la Comisión para el Esclarecimiento de la Verdad, la Convivencia y la no Repetición.'),\n",
       " Document(metadata={'source': './../../../reports-pdf/058-CI-00233.pdf', 'page': 10}, page_content='11 \\nLa literatura académica14 y los documentos emitidos por organismos internacionales15 abundan en afirmaciones que reconocen la dimensión colectiva de la memoria como presupuesto del acceso a la verdad, la justicia y la reparación. Llegando algunos autores a sostener que, mientras la memoria neutraliza la violencia, el olvido la refuerza.16 En la misma línea, la jurisprudencia de la Corte Interamericana de Derechos Humanos considera que las generadoras de memoria son medidas de suma importancia para la adecuada reparación de las víctimas.17 Si el objetivo es que la memoria histórica de la época en la que se desarrolló el conflicto armado en Colombia cumpla con las funciones de reparar a las víctimas, evitar la repetición y confrontar el olvido que se traduce en impunidad, es necesario reflexionar acerca de cuales son los mecanismos a través de los que estamos generando los relatos que van a conformar la memoria histórica y si se fomenta la participación de la sociedad en su configuración.   Como nos recuerda el Instituto de Políticas Públicas de Derechos Humanos de MERCOSUR en su documento de 201218, el objetivo no es que el Estado construya una memoria oficial para que sea asumida acríticamente por la sociedad. Porque, en palabras de Cabrera Suárez, “la elección de lo que es  14 Cabrera Suárez, L.A., El derecho a la memoria y su protección jurídica: avance de investigación, Pensamiento Jurídico, nº 36, enero- abril, Bogotá, 2013, pág. 174. Pernasetti, C., Acciones de memoria y memoria colectiva. Reflexiones sobre memoria y acción política, en De la Peza, C. (Coord.), Memoria(s) y Política. Poéticas, experiencias y construcción de nación, Prometeo Editores, Buenos Aires, 2009. 15 Resolución 2005/66 sobre “EL Derecho de la Verdad” adoptada en ña 59ª Sesión de la Comisión de Derechos Humanos de Naciones Unidas, el 20 de abril de 2005. MERCOSUR (IPPDH), Principios fundamentales para las políticas públicas sobre sitios de memoria. Óp. cit, pág. 7. 16 Cabrera Suárez, L.A., El derecho a la memoria y su protección jurídica: avance de investigación. Óp. cit, pág. 177. 17 Entre otras: Corte Interamericana de Derechos Humanos, caso Velásquez Rodríguez contra Honduras, Sentencia de 29 de julio de 1988. Corte Interamericana de Derechos Humanos, caso Aloeboetoe y otros contra Surinam, Sentencia de 4 de diciembre de 1991. Corte Interamericana de Derechos Humanos, caso 19 comerciantes contra Colombia, Sentencia de 5 de julio de 2004. 18 MERCOSUR (IPPDH), Principios fundamentales para las políticas públicas sobre sitios de memoria. Óp. cit, pág. 12.'),\n",
       " Document(metadata={'source': './../../../reports-pdf/058-CI-00233.pdf', 'page': 11}, page_content='12 \\nregistrado en la memoria pública y la forma como es representada no es neutral”19. Y dejar exclusivamente en manos del poder público la elaboración del relato puede suponer el monopolio de una única visión que elimine los matices y las versiones con capacidad para contradecirla. De este peligro advierte Pollak cuando sostiene que la construcción de las memorias es conflictiva y los estudios contemporáneos revelan que hay memorias subterráneas, propias de minorías o vencidos, que han sido silenciadas por entrar en contradicción o no ratificar completamente la oficial.20 Para tratar de evitar el riesgo descrito, MERCOSUR estima necesaria la participación de la sociedad, “específicamente de las víctimas y sus familiares, y de la comunidad local”21, en la configuración de la memoria colectiva. Y propugna la creación de mecanismos de diálogo que ayuden a configurar un relato común sobre los hechos y a describir las causas estructurales de orden social que contribuyeron a que sucedieran22. Pernasetti parece compartir esta visión cuando afirma: “solo si existe espacio para el encuentro, el diálogo, el desacuerdo, la insatisfacción y el deseo de otra cosa, es posible que la potencialidad de la memoria se despliegue”23. Y Cabrera Suárez va más allá al reclamar que las organizaciones civiles se alcen como portavoces de la memoria pública en aquellos contextos en los que la versión oficial tienda a la amnesia forzosa.24 Si, como el mismo autor sostiene, los grupos sociales tienen, como materialización efectiva del derecho a la memoria, la prerrogativa de que el poder público no tergiverse lo acontecido, les corresponde también la responsabilidad de hacer lo posible para que se conozca “con el mayor grado de veracidad posible”.25  19 Cabrera Suárez, L.A., El derecho a la memoria y su protección jurídica: avance de investigación. Óp. cit, pág. 180. 20 Pollak, M., Memoria, olvido, silencio. La producción social de identidades frente a situaciones límite. Ediciones al margen, La Plata, 2006, pág. 18. 21 MERCOSUR (IPPDH), Principios fundamentales para las políticas públicas sobre sitios de memoria. Óp. cit, pág. 12. 22 Ibídem, pág. 12. 23 Pernasetti, C., Acciones de memoria y memoria colectiva. Reflexiones sobre memoria y acción política. OP. cit, pág. 14. 24 Cabrera Suárez, L.A., El derecho a la memoria y su protección jurídica: avance de investigación. Óp. cit, pág. 181. 25 Ibídem.'),\n",
       " Document(metadata={'source': './../../../reports-pdf/058-CI-00233.pdf', 'page': 12}, page_content='13 \\n Por su parte, los lugares memoriales pueden constituir herramientas adecuadas para la construcción de memorias vinculadas con los conflictos armados y diversas situaciones de violencia. Y han demostrado su transcendencia en la consecución de una efectiva reparación simbólica a las víctimas y en la construcción de pilares que contribuyen a garantizar a toda la sociedad la no repetición de lo acontecido.  Así lo afirma el Instituto de Políticas Públicas de Derechos Humanos de MERCOSUR cuando en 2012 destaca los sitios de memoria como medio para conocer lo ocurrido, soporte de la memoria colectiva y medida de reparación simbólica y garantía de no repetición.26 Y así lo defiende Cabrera Suárez al destacar que la tendencia más avanzada de la reparación “se dirige al impulso de los llamados lugares de memoria, como los centros de reflexión pública e impulso a la organización de víctimas”27.  La combinación de los tres elementos expuestos (la memoria como presupuesto del derecho a la verdad, a la justicia y a la reparación -pilares de la consolidación de la paz-, la necesidad de la participación social en la confección de la memoria y la adecuación de los lugares de memoria para la elaboración y transmisión de los relatos, así como su contribución a la reparación de la víctimas y al fortalecimiento de las garantías de no repetición) nos lleva a sostener que los emplazamientos físicos que son elegidos por víctimas y colectivos sociales como centro de encuentro y materialización de sus relatos son esenciales para la construcción de una memoria colectiva que refleje adecuadamente los hechos acontecidos, sus causas y la identidad propia de la comunidad que los padeció. Cuando quienes padecieron directamente el daño y el menoscabo de sus derechos fundamentales y sus vecinos realizan actividades de intercambio de historias, de explicación popular de las causas, de reivindicación y reconocimiento de las víctimas y sus familias o de difusión de todo lo concluido en un espacio físico concreto y determinado a lo largo de un período de tiempo, ese lugar puede llegar a desempeñar un papel esencial para garantizar el derecho a la memoria (y consecuentemente a la verdad) de la sociedad en su conjunto.  26 MERCOSUR (IPPDH), Principios fundamentales para las políticas públicas sobre sitios de memoria. Óp. cit, págs. 11, 12 y 14. 27 Cabrera Suárez, L.A., El derecho a la memoria y su protección jurídica: avance de investigación. Óp. cit, pág. 184.'),\n",
       " Document(metadata={'source': './../../../reports-pdf/058-CI-00233.pdf', 'page': 13}, page_content='14 \\nSi los impulsores de la iniciativa y sus conciudadanos utilizan el emplazamiento para elaborar y transmitir los sucesos a un público amplio están cumpliendo con esta misión. En los casos en los que, además, esos lugares se encuentran situados en los territorios concretos en los que se produjeron las violaciones de derechos humanos, la interacción de víctimas, vecinos y ciudadanos venidos de otras zonas tiene la capacidad de redefinir la memoria en relación con el contexto sociopolítico, cultural y económico del lugar en el que está inserto el sitio. Así lo pone de manifiesto la intervención efectuada en un ex centro clandestino de detención, tortura y extermino en Córdoba, Argentina (Espacio para la Memoria, Promoción y Defensa de los Derechos Humanos Campo de la Rivera)28 y las actividades diseñadas entorno al barrio Yungay de Santiago, Chile29. La combinación en los encuentros y eventos del objetivo de documentar, acreditar y transmitir las vulneraciones de derechos humanos con el de abordar las situaciones actuales de desigualdad y conculcación de derechos ofrece como resultado un relato que excede de los hechos para entrar a identificar causas y poner las bases para analizar si aún persisten. Un análisis esencial para poder actuar directamente sobre los factores primigenios que motivaron la posibilidad de que se produjera el conflicto y se enquistaran sus violencias.  Estos espacios pueden constituirse en centros de diálogo con capacidad para contribuir positivamente a generar una mejor convivencia y cuestionar los recursos a los que en el contexto del conflicto armado se ha recurrido para la resolución de conflictos.  Iniciativas como la articulada en torno al cementerio La América contribuyen a generar nuevos relatos y a enriquecer con ellos el patrimonio colectivo de la memoria. Los objetivos que declaran sus impulsores (realización de un ejercicio de activación constante de la memoria a través de un diálogo que contribuya al  28 Garbero, V., Las políticas de la memoria en un centro clandestino de detención, tortura y exterminio: el caso del Espacio para la Memoria, Promoción y Defensa de los Derechos Humanos Campo de la Ribera (Córdoba, Argentina), Revista digital Nuevos Mundos, Mundos Nuevos, 19/02/2019. https://journals.openedition.org/nuevomundo/75319 29 Sitios de memoria Barrio Yungay. Una ruta por la historia para la enseñanza en el aula, Museo de la Memoria y de los Derechos Humanos, Santiago, 2015. https://ww3.museodelamemoria.cl/wp-content/files_mf/1545402918Yungay.pdf'),\n",
       " Document(metadata={'source': './../../../reports-pdf/058-CI-00233.pdf', 'page': 14}, page_content='15 \\nesclarecimiento del pasado, conocimiento y difusión del pasado mediante la exposición de las vivencias y realidades de sus protagonistas, la consecución del empoderamiento comunitario y la superación del temor) configuran al cementerio La América no solo como un lugar de duelo y reparación -al que pueden acudir también los deudos de las personas desaparecidas que no disponen de una ubicación a la que ir a recordarlas-, sino también como un espacio de uso público ligado a la promoción de los derechos de los actuales habitantes de la Comuna 13 y de toda la ciudad de Medellín. La utilización de las instalaciones del cementerio La América para realizar actividades de reconstrucción histórica de la violencia desde las historias particulares de los vecinos, así como para establecer encuentros de voces diversas procedentes de la comunidad y de otros sectores de la sociedad, lo instituyen en huella espacial del conflicto en el ámbito urbano. Los dos años que actualmente lleva en funcionamiento como sitio de la memoria lo han situado como referente local en la construcción de nuevas narrativas. A través de técnicas como el muralismo y la siembra los participantes han desarrollado procesos artísticos que visibilizan las historias de vida de personas que descansan en el cementerio y de otras desaparecidas en el contexto de la violencia y han construido, junto con los habitantes de la zona, intervenciones que construyen y alimentan memorias colectivas. Toda la labor conjunta de víctimas, vecinos y colectivos sociales se ha articulado en torno a estrategias pedagógicas, artísticas, investigadoras y de siembra que han sido calurosamente acogidas por la comunidad de la Comuna 13 y de otras zonas de la ciudad y de la región ayudando a mejorar la convivencia en el entorno y a favorecer la comprensión de los factores que han contribuido a que sea escenario de trágicos acontecimientos. 30  2. La preceptiva protección jurídica de los lugares de la memoria histórica.  Reconocer la transcendencia que estos lugares tienen para la consecución de una paz estable y duradera y reivindicar el valor de las iniciativas que han logrado configurarlos nos lleva necesariamente a considerar indispensable un mecanismo \\n 30 Desarrollaremos con más detalle las actividades concretas y sus objetivos específicos en el Anexo.'),\n",
       " Document(metadata={'source': './../../../reports-pdf/058-CI-00233.pdf', 'page': 15}, page_content='16 \\nadecuado de identificación, gestión y protección de los sitios de memoria generados por la interacción de victimas y acción civil. Ante la constatación de que Colombia no dispone de instrumentos jurídicos adecuados para lograr tal finalidad, comenzaremos por argumentar la existencia de un deber por parte del poder público de promocionar y preservar los espacios memoriales para, a continuación, exponer las conclusiones a las que nos ha llevado el análisis de las normas del ordenamiento colombiano que de un modo u otro hacen referencia a la memoria histórica o a la protección de bienes de especial interés para la comunidad sin articular un mecanismo adecuado que garantice la pervivencia de los lugares de memoria.  a. El deber los Estados de garantizar la disponibilidad y accesibilidad a los sitios de memoria. El caso de Colombia.  MERCOSUR, al intentar sistematizar los estándares generales del derecho internacional relativos a los sitios de memoria, considera que su generación y promoción es una herramienta con la que cuenta el poder público para cumplir las que asume como obligaciones del Estado en el ámbito de la verdad, la memoria y la reparación.31 Un conjunto de responsabilidades que, como expresión de la dimensión colectiva del derecho a la verdad, se materializa en el “deber de memoria”32 que corresponde al Estado33.  Y que para el tema que nos ocupa se concreta en el compromiso de los Estados de garantizar la disponibilidad, accesibilidad y preservación de los sitios de memoria a través de la articulación de los mecanismos administrativos precisos.  31 MERCOSUR (IPPDH), Principios fundamentales para las políticas públicas sobre sitios de memoria. Óp. cit, pág. 4. 32 Responsabilidad jurídica que tiene su origen en una exigencia ética producto del Holocausto. El llamamiento a prestar testimonio acerca de lo ocurrido en los campos de exterminio surge de la necesidad de sacar a la luz unos hechos cuya ejecución estaba proyectada para no dejar rastros. Poner en conocimiento aquello que se ha pretendido ocultar y evitar que se olvide otorgan un gran valor a la declaración del testigo. Algo que ha suscitado críticas de quienes estiman que “no es conveniente su predominio sobre el análisis objetivo del pasado” y los que advierten acerca de “su utilización indiscriminada”. Erice Sebares, F., Memoria Histórica y Deber de Memoria: Las dimensiones mundanas de un debate académico, Entelequia. Revista Interdisciplinar: Monográfico, nº 7, septiembre 2008, págs. 91 y 92. 33 Cabrera Suárez, L.A., El derecho a la memoria y su protección jurídica: avance de investigación. Óp. cit, pág. 175.'),\n",
       " Document(metadata={'source': './../../../reports-pdf/058-CI-00233.pdf', 'page': 16}, page_content='17 \\nEste compromiso se torna en imposición cuando la Justicia establece la obligación de las instituciones públicas de resguardar ubicaciones que puedan contribuir a la reconstrucción de hechos atentatorios contra los derechos humanos.34 Pero entendemos que también puede ser requerido su cumplimiento en los supuestos en los que se evidencie que los emplazamientos memoriales pueden contribuir efectivamente a la confección de las memorias de un territorio. El Instituto de Políticas Públicas en Derechos Humanos de MERCOSUR así lo entiende cuando propone la necesidad de preservar los sitios más allá del valor probatorio de algunos de ellos al destacar que pueden ser soporte para los trabajos vinculados con la construcción de memorias.35  Por lo tanto, si conectamos las conclusiones respecto al papel que pueden desempeñar estos espacios en la mejora de la convivencia y la consolidación de la paz en los territorios a través de la colaboración en la generación de sus memorias con las obligaciones asumidas por el Estado colombiano cuando adoptó el Acuerdo Final de paz, colegimos que es responsabilidad de los poderes públicos de Colombia articular un adecuado marco jurídico encaminado a la preservación de los lugares de memoria generados por la interacción de víctimas y colectivos sociales. Puesto que aceptó la necesidad y pertinencia de abrir espacios que promuevan el reconocimiento de las víctimas y el establecimiento de responsabilidades para que toda la sociedad tenga un efectivo acceso a la historia y explicación de lo ocurrido36, no sería coherente que desatendiera las iniciativas que parten de las propias víctimas y de la acción civil trayendo como consecuencia el posible desincentivo de la participación ciudadana.  34 Redacción Pares, JEP tomaría medidas cautelares en el caso de la Comuna 13, Fundación Paz & Reconciliación, 31 de octubre de 2019.  https://pares.com.co/2019/10/31/jep-tomaria-medidas-cautelares-en-el-caso-de-la-comuna-13/ 35 MERCOSUR (IPPDH), Principios fundamentales para las políticas públicas sobre sitios de memoria. Óp. cit, pág. 4. 36 “Se requiere abrir espacios para la participación ciudadana más variada y espacios que promuevan el reconocimiento de las víctimas, el reconocimiento y establecimiento de responsabilidades, y el general, el reconocimiento por parte de toda la sociedad de la ocurrido y de aprovechar la oportunidad de la paz”, Acuerdo Final para la Terminación del Conflicto y la Construcción de una Paz Estable y Duradera, 24 de noviembre de 2016, Introducción, pág. 7. http://www.altocomisionadoparalapaz.gov.co/procesos-y-conversaciones/Documentos%20compartidos/24-11-2016NuevoAcuerdoFinal.pdf'),\n",
       " Document(metadata={'source': './../../../reports-pdf/058-CI-00233.pdf', 'page': 17}, page_content='18 \\nAdemás, la rama legislativa del poder público de Colombia consagra en una norma con rango de ley el deber de memoria del Estado al identificarlo en el artículo 143 de la ley de Víctimas con la obligación de “propiciar las garantías y condiciones para que la sociedad, (…), así como los organismos del Estado (…), puedan avanzar en ejercicios de reconstrucción como aporte a la realización del derecho a la verdad del que son titulares las víctimas y la sociedad en su conjunto”.37 Un deber entendido como construcción de memoria histórica que, según la interpretación de Uprimny Salazar, atribuye a cada sección de la sociedad la posibilidad de luchar por la memoria asignando al Estado la responsabilidad de propiciar las garantías y condiciones para que esa labor sea factible38. Entendemos que un instrumento jurídico destinado al reconocimiento y protección de los sitios de memoria estaría encuadrado dentro de esas garantías.  Una vez reconocido el deber y asumida la responsabilidad de su cumplimiento los poderes públicos tienen principalmente dos opciones39: - Elaborar leyes específicas que incluyan procedimientos y mecanismos destinados a valorizar, identificar y preservar dichos lugares. - Reformular las leyes de patrimonio cultural, histórico o similares para incluir en ellas una especial protección de los espacios de memoria.  b. Evidencias aportadas por el análisis normativo de que la legislación colombiana no incluye normas con capacidad para preservar estos espacios de memoria.  Colombia no cuenta en la actualidad con una Ley de Memoria Histórica. Las referencias normativas a este concepto las encontramos en la Ley 1448 de 2011, \\n 37 Ley 1448 de 10 de junio de 2011, Por la cual se dictan medidas de atención, asistencia y reparación integral a las víctimas del conflicto armado interno y se dictan otras disposiciones. 38 Uprimny Salazar, C., La memoria en la Ley de Víctimas en Colombia: derechos y deber, Anuario de Derechos Humanos 2012, pág. 142. 39 Tal y como propone MERCOSUR en sus Principios Fundamentales de Sitios de Memoria, MERCOSUR (IPPDH), Principios fundamentales para las políticas públicas sobre sitios de memoria. Óp. cit, pág. 10.'),\n",
       " Document(metadata={'source': './../../../reports-pdf/058-CI-00233.pdf', 'page': 18}, page_content='19 \\nconocida como Ley de Víctimas40. Concretamente en los artículos que van del 142 al 148. Aunque esta ley y el reglamento41 que la desarrolla contienen disposiciones que podemos conectar con el reconocimiento del valor que se atribuye a las acciones de preservación de la memoria histórica y el restablecimiento de la dignidad de las víctimas lideradas por la sociedad civil o la iniciativa privada y se encomienda a los poderes públicos una serie de acciones encaminadas a generarla, no se refieren a los sitios de memoria ni, por lo tanto, incluyen un mecanismo o procedimiento destinado a su definición, identificación, catalogación y protección. Ambos documentos componen un corpus jurídico que es preciso comentar en este trabajo puesto que localizamos en ellos artículos cuyo contenido contribuye a la configuración de un marco legal que reconoce en su conjunto la adecuación de las iniciativas impulsadas por el trabajo común de víctimas y colectivos sociales. De tal modo que, en el contexto del reconocimiento del derecho a la reparación integral que incluye la dimensión simbólica (presente de forma esencial en ámbitos como el que reivindicamos en este informe), hallamos referencias a la participación conjunta (art. 14), a la participación de la sociedad civil y la empresa (art. 33) y a la construcción de monumentos públicos de reparación y reconciliación (art. 139.f), así como la expresión normativa del deber, por parte del Estado, de garantizar la participación de las organizaciones de víctimas y sociales y promover y reconocer las iniciativas de la sociedad civil con enfoque diferencial en materia de memoria histórica (art. 145. Parágrafo). Todo lo cual estimamos que, en una interpretación global del ordenamiento jurídico colombiano, apoya la pretensión de que se otorgue un reconocimiento concreto y una garantía de pervivencia adecuada -a través de una ley de memoria histórica que incluya estos lineamientos- a los espacios de memoria objeto del presente informe.  Conectando el análisis de las normas en las que se incluyen disposiciones dedicadas a la memoria histórica en Colombia con la opción de articular la  40 Ley 1448 de 10 de junio de 2011, Por la cual se dictan medidas de atención, asistencia y reparación integral a las víctimas del conflicto armado interno y se dictan otras disposiciones. 41 Decreto Nº 4800 de 20 de diciembre de 2011, Por el cual se reglamenta la Ley 1448 de 2011.'),\n",
       " Document(metadata={'source': './../../../reports-pdf/058-CI-00233.pdf', 'page': 19}, page_content='20 \\nprotección de los lugares de memoria mediante las leyes de patrimonio histórico y cultural, debemos señalar que el artículo 186 del Decreto que reglamenta la Ley de Víctimas declara que la memoria histórica es patrimonio público42.  Un patrimonio que, sin embargo, encuentra un difícil encaje en la definición de patrimonio cultural de la Nación que incluye la Ley 1185 de 12 de marzo de 2008, Por la cual se modifica y adiciona la Ley 397 de 1997 -Ley General de Cultura- y se dictan otras disposiciones. El artículo 1, que modifica el artículo 4 de la Ley General de Cultura de 1997, dispone que el patrimonio cultural de la Nación está constituido (es decir que podrán ser considerados bienes del patrimonio cultural) “todos los bienes materiales, las manifestaciones inmateriales, los productos y las representaciones de la cultura que son expresión de la nacionalidad colombiana, (…), así como los bienes materiales de naturaleza mueble e inmueble a los que se les atribuye, entre otros, especial interés histórico, artístico, científico, estético o simbólico en ámbitos como el plástico, el arquitectónico, urbano, arqueológico, lingüístico, sonoro, musical, audiovisual, fílmico, testimonial, documental, literario, bibliográfico, museológico o antropológico”. Aunque, conforme a una interpretación amplia, podríamos argumentar a favor de que los sitios de memoria cumplen con los requisitos de tener un especial interés simbólico, incluso histórico, en el ámbito testimonial, la norma no recoge los matices y especificidades del concepto que organismos internacionales y expertos han denominado “patrimonio de la memoria”43 o “patrimonios perturbadores”44. Esto es importante porque la definición del objeto al que va dirigida la norma determina las características y alcance del modelo de salvaguardia, protección, recuperación, conservación, sostenibilidad y divulgación que establece. De este modo, la Ley 1185 de 2008 propone un Consejo Nacional de Patrimonio Cultural (órgano encargado de asesorar al Gobierno Nacional en cuanto a la garantía y gestión del patrimonio cultural de la nación) en el que entre sus  42 Ibídem. 43 MERCOSUR (IPPDH), Principios fundamentales para las políticas públicas sobre sitios de memoria. Óp. cit, pág. 11. 44 D, Ottavio, A.L., Apuntes sobre conservación material de sitios de memoria emplazados en CCDTyE de la ciudad de Buenos Aires: desafíos y tensiones, Revista Cuaderno del IDES, Instituto de Desarrollo Económico y Social, pág. 60. https://ri.conicet.gov.ar/handle/11336/46359'),\n",
       " Document(metadata={'source': './../../../reports-pdf/058-CI-00233.pdf', 'page': 20}, page_content='21 \\nintegrantes no se incluye ningún especialista en asuntos vinculados con la memoria del conflicto armado. Salvo el Presidente de la Academia Colombiana de Historia y el Director del Instituto Colombiano de Antropología e Historia, todos los miembros tienen un perfil profesional vinculado con las artes plásticas y arquitectónicas, la lengua y el urbanismo45.  El papel de este Consejo es esencial porque la declaratoria, que es competencia del Ministerio de Cultura, exige su previo concepto favorable46. Aunque la norma también prevé que habrá bienes de interés cultural de ámbito departamental, distrital, municipal y de los territorios indígenas y de las comunidades negras exige para su declaración el previo concepto favorable de Consejos Departamentales y Distritales de Patrimonio Cultural, cuya composición no detalla, pero que no sería extraño que tomará como referente la del Consejo Nacional47. Esta ley no tiene presente que las disposiciones pueden ser de aplicación a espacios cuyo valor simbólico y testimonial reside en su capacidad para constituirse como ámbitos de reparación para los familiares de desaparecidos que no cuentan con otro elemento material para elaborar sus duelos o que regirán predios o inmuebles que constituyen mojones de memoria colectiva y sitios de experiencia compartida48. Lo que determina que no se resaltan estas cualidades y que, por analogía con los otros elementos integrantes del patrimonio cultural, se aplique a ellos una protección basada esencialmente en la conservación material de elementos con un valor económico calculable y las medidas de mantenimiento y conservación se limiten a su dimensión material. Es preciso que el poder público tenga muy presente las aportaciones que los espacios memoriales realizan a la convivencia y a la paz para que no caigan en la tentación de primar el valor económico que determina su ubicación o los réditos monetarios que podrían derivarse de su posible dedicación a otra función.49  45 Artículo 4, que modifica el artículo 7 de la Ley 397 de 1997. Ley 1185 de 12 de marzo de 2008, Por la cual se modifica y adiciona la Ley 397 de 1997 (Ley General de Cultura) y se dictan otras disposiciones. 46 Artículo 5, que modifica el artículo 8 de la Ley 397 de 1997. Ibídem. 47 Ibídem. 48 D, Ottavio, A.L., Apuntes sobre conservación material de sitios de memoria emplazados en CCDTyE de la ciudad de Buenos Aires: desafíos y tensiones. Óp. cit, pág. 57. 49 Síntesis de la motivación que llevó al Colectivo Agroarte a emprender el trabajo de confección del presente informe. La conciencia de que el temor que tiene el colectivo respecto a la pervivencia del cementerio La América como espacio de memoria sea'),\n",
       " Document(metadata={'source': './../../../reports-pdf/058-CI-00233.pdf', 'page': 21}, page_content='22 \\nPor otro lado, que la regulación normativa no contemple específicamente sus particularidades ni resalte el ámbito en el que reside su valor para la sociedad implica un riesgo de desestimación de su utilidad por parte de administraciones futuras. No podemos olvidar que, como nos recuerda D,Ottavio citando a otros autores, estos lugares son auténticos patrimonios perturbadores (pues su finalidad es recordar atrocidades y conmemorar a sus víctimas) y pueden constituir lo que en el ámbito académico se ha denominado patrimonio hostil; es decir, “una modalidad de referente patrimonial que no busca reforzar identidades a partir de un relato unificado sino que, por el contrario, nos representa lo que nos resulta incómodo y nos interpela”50. Algo que, sin una ley que incluya el objetivo de evitar los ataques que pueden sufrir estos bienes por parte de teorías revisionistas o negacionistas, puede dejar sin efecto la salvaguardia que ofrece una ley de patrimonio cultural genérica. Las consideraciones anteriores sirven para cuestionar el alcance que tendría la garantía de pervivencia de los lugares de memoria que puede ofrecer una ley general sobre el patrimonio cultural que no incluya una definición específica y un marco concreto de regulación para el patrimonio de la memoria histórica. Pero no podemos olvidar el aspecto técnico, las advertencias acerca de que las leyes de patrimonio cultural no comprenden que la complejidad que caracteriza a los sitios de memoria “involucra metodologías, formas de trabajo, actores y criterios especiales que constituyen una novedad en el trabajo de preservación patrimonial”51. Consecuentemente, además de ratificar la impresión inicial de que Colombia no cuenta con una adecuada regulación jurídica que permita la sujeción de los bienes objeto de este informe a un régimen especial de protección y salvaguardia, proponemos la elaboración de una Ley de la Memoria Histórica que dote a la memoria del conflicto de un marco debidamente estructurado de principios y procedimientos y que incluya en su desarrollo un mecanismo específico para el \\n compartido por los generadores de otras iniciativas similares. La gentrificación del barrio de San Javier y la previsible especulación urbanística que sufrirán los terrenos del cementerio a raíz de la construcción del nuevo campus universitario en los predios de la antigua cárcel conllevan el riesgo de que el valor económico del suelo se incremente notablemente y las razones económicas venzan a las de la memoria y la convivencia. 50 Ibídem, pág. 60. 51 Ibídem, pág. 61.'),\n",
       " Document(metadata={'source': './../../../reports-pdf/058-CI-00233.pdf', 'page': 22}, page_content='23 \\nreconocimiento, definición, identificación, declaración y garantía de pervivencia de los espacios memoriales. En su defecto, considerando la envergadura de la confección de un marco legal consensuado entorno a la memoria histórica, sería conveniente una modificación de la Ley General de Cultura que defina el patrimonio de la memoria y recoja las especificidades y particulares de los sitios de la memoria en el régimen de cobijo y protección que diseñe para garantizar su existencia y la persistencia de su función en el tiempo52.   c. Referencias de derecho comparado.  Como respaldo a la idoneidad de emitir normas específicas nos permitimos aportar ejemplos del contexto internacional, seleccionadas por la adecuación temática, su calidad técnica y reciente emisión.53  Así, en diciembre de 2018, la Comunidad Foral de Navarra (España) expidió una ley que establece que la memoria se transmite también a través de los lugares memoriales construidos por familias, asociaciones e instituciones. Una norma a la que atribuye el objetivo de preservar los lugares de memoria, regular su señalización y promover su conocimiento con la finalidad de que operen como instrumentos de recuerdo y transmisión de valores de paz y convivencia.54  Por su parte, un año antes, la Comunidad Autónoma de Andalucía se dotó de una ley general de memoria que incluye en el Capítulo II del Título II dedicado a la Reparación de las víctimas la definición y la articulación de un procedimiento específico de protección de los denominados Lugares y Senderos de Memoria  52 Algo que ya ha hecho la Ley 1185 de 2008 con respecto al patrimonio arqueológico al dedicarle en exclusiva el artículo 3 que reforma el artículo 6 de la Ley General de Cultura.  53 La razón que ha motivado la referencia a estas normas en lugar de las que podemos encontrar en otros países del continente americano como son Argentina y Chile ha sido que según las definiciones de lugares de la memoria que incluyen las normas autonómicas de España quedarían amparados por lo dispuesto en ellas los emplazamientos generados o resignificados como sitios de memoria por la acción conjunta de víctimas y comunidades. Algo que no se da en las normas argentinas y chilenas que, por las especiales características de su pasado, se refieren específicamente a los espacios en los que se perpetraron actos de violación de derechos humanos y a aquellos que tienen valor como cantera de elementos probatorios para procesos judiciales. 54 Ley Foral 29/2018, de 16 de diciembre, de Lugares de la Memoria Histórica de Navarra.'),\n",
       " Document(metadata={'source': './../../../reports-pdf/058-CI-00233.pdf', 'page': 23}, page_content='24 \\nDemocrática. Por estimar que estos emplazamientos tienen un especial interés como patrimonio histórico por su repercusión en la memoria colectiva.55                        CONCLUSIONES Y RECOMENDACIONES  Conclusiones.  1. Los espacios destinados al recuerdo, la reparación simbólica y la elaboración del relato en los territorios que han surgido por la iniciativa conjunta de víctimas y colectivos sociales son ejemplos de resistencia y se constituyen como auténticos lugares o sitios de la memoria histórica que aportan el valor adicional de ser instrumentos de aliento y canalización de la participación social en la generación de memoria.  2. Teniendo los lugares de la memoria un papel destacado en la construcción de la memoria colectiva que es capital para la realización efectiva de los derechos a la verdad, a la justicia y a la reparación, que son considerados pilares básicos de la consolidación de la paz, precisan de una protección específica que garantice su pervivencia material y la continuidad de su labor.  3. El deber de memoria de los estados justifica la articulación de un adecuado marco de protección jurídica para estos lugares.  4. Únicamente una protección de carácter jurídico derivada de la vigencia de normas que contemplen las especificidades y el valor social del patrimonio de la memoria tendrá la fuerza precisa para garantizar su subsistencia y que pueda cumplir efectivamente las funciones asumidas respecto a la consecución de una real reconciliación y el refuerzo y la consolidación de una mejor convivencia.  5. Colombia no cuenta en la actualidad con un marco normativo destinado al reconocimiento y protección de los lugares de memoria.  \\n 55 Ley 2/2017, de 28 de marzo, de Memoria Histórica y Democrática de Andalucía.'),\n",
       " Document(metadata={'source': './../../../reports-pdf/058-CI-00233.pdf', 'page': 24}, page_content='25 \\n6. Es preciso emprender el trabajo de confección de una normativa adecuada a ese fin para evitar que los espacios de memoria generados o resignificados por la labor de víctimas y actores de sociedad civil desaparezcan dejando de cumplir su misión.  Recomendaciones.  - Inclusión en el informe final de la Comisión de la Verdad de una referencia que ponga en valor y reivindique las iniciativas y los espacios que las víctimas han emprendido y generado junto a distintos colectivos de la sociedad civil con la finalidad de recodar, resarcir a las víctimas y sus familias y tejer un relato de lo ocurrido destinado a sentar las bases de una nueva convivencia.  - Inclusión en el informe final de la Comisión de la Verdad de la pertinencia de que Colombia se dote de una Ley de Memoria Histórica que incluya la articulación de un procedimiento de reconocimiento y protección56 de los lugares o sitios de memoria que garantice su pervivencia, sostenimiento y la continuidad de sus actividades evitando el abandono o derribo de los lugares de memoria o su enajenación para fines distintos a los memoriales.   FUENTES   Referencias bibliográficas y de documentos internacionales  Acuerdo Final para la Terminación del Conflicto y la Construcción de una Paz Estable y Duradera, 24 de noviembre de 2016, Introducción, pág. 7. \\n 56 Desde una perspectiva de adecuación de técnica legislativa sería conveniente que el texto jurídico incluyera una definición del objeto, describiera los objetivos de la norma y que se explayara acerca del régimen de protección, las obligaciones y derechos de los titulares, las consecuencias que acarrearían los incumplimientos de deberes (con su correspondiente régimen sancionador), incluyera un régimen de protección y conservación y como se establecerían las mismas en relación con los instrumentos de ordenación del territorio, urbanismo y medio ambiente.'),\n",
       " Document(metadata={'source': './../../../reports-pdf/058-CI-00233.pdf', 'page': 25}, page_content='26 \\nhttp://www.altocomisionadoparalapaz.gov.co/procesos-y-conversaciones/Documentos%20compartidos/24-11-2016NuevoAcuerdoFinal.pdf (Revisado a fecha de 2 de diciembre de 2019) Cabrera Suárez, L.A., El derecho a la memoria y su protección jurídica: avance de investigación, Pensamiento Jurídico, nº 36, enero- abril, Bogotá, 2013. Colectivo Galería Viva, Narrativa Galería Viva, Cementerio La América, zona noroccidental de Medellín, Convocatoria Ministerio de Cultura, Poblaciones, Narrativas culturales de los grupos de interés para la construcción de paz y reconciliación. D, Ottavio, A.L., Apuntes sobre conservación material de sitios de memoria emplazados en CCDTyE de la ciudad de Buenos Aires: desafíos y tensiones, Revista Cuaderno del IDES, Instituto de Desarrollo Económico y Social. https://ri.conicet.gov.ar/handle/11336/46359 (Revisado a fecha de 2 de diciembre de 2019) Erice Sebares, F., Memoria Histórica y Deber de Memoria: Las dimensiones mundanas de un debate académico, Entelequia. Revista Interdisciplinar: Monográfico, nº 7, septiembre 2008. Garbero, V., Las políticas de la memoria en un centro clandestino de detención, tortura y exterminio: el caso del Espacio para la Memoria, Promoción y Defensa de los Derechos Humanos Campo de la Ribera (Córdoba, Argentina), Revista digital Nuevos Mundos, Mundos Nuevos, 19/02/2019.  https://journals.openedition.org/nuevomundo/75319 (Revisado a fecha de 2 de diciembre de 2019) Guía presentación informes Comisión de la Verdad. https://comisiondelaverdad.co/images/guia-presentacion-informes-comision-verdad.pdf (Revisado a fecha de 2 de diciembre de 2019) Instituto de Políticas Públicas en Derechos Humanos del MERCOSUR (IPPDH), Principios fundamentales para las políticas públicas sobre sitios de memoria, Argentina, Septiembre 2012. Pernasetti, C., Acciones de memoria y memoria colectiva. Reflexiones sobre memoria y acción política, en De la Peza, C. (Coord.), Memoria(s) y Política. Poéticas, experiencias y construcción de nación, Prometeo Editores, Buenos Aires, 2009. Pollak, M., Memoria, olvido, silencio. La producción social de identidades frente a situaciones límite. Ediciones al margen, La Plata, 2006.'),\n",
       " Document(metadata={'source': './../../../reports-pdf/058-CI-00233.pdf', 'page': 26}, page_content='27 \\nRedacción Pares, JEP tomaría medidas cautelares en el caso de la Comuna 13, Fundación Paz & Reconciliación, 31 de octubre de 2019.  https://pares.com.co/2019/10/31/jep-tomaria-medidas-cautelares-en-el-caso-de-la-comuna-13/ (Revisado a fecha de 2 de diciembre de 2019) Resolución 2005/66 sobre “EL Derecho de la Verdad” adoptada en ña 59ª Sesión de la Comisión de Derechos Humanos de Naciones Unidas, el 20 de abril de 2005. Sitios de memoria Barrio Yungay. Una ruta por la historia para la enseñanza en el aula, Museo de la Memoria y de los Derechos Humanos, Santiago, 2015. https://ww3.museodelamemoria.cl/wp-content/files_mf/1545402918Yungay.pdf (Revisado a fecha de 2 de diciembre de 2019) Uprimny Salazar, C., La memoria en la Ley de Víctimas en Colombia: derechos y deber, Anuario de Derechos Humanos 2012. Referencias normativas   Ley 1185 de 12 de marzo de 2008, Por la cual se modifica y adiciona la Ley 397 de 1997 (Ley General de Cultura) y se dictan otras disposiciones (Colombia). Ley 1448 de 10 de junio de 2011, Por la cual se dictan medidas de atención, asistencia y reparación integral a las víctimas del conflicto armado interno y se dictan otras disposiciones (Colombia). Decreto Nº 4800 de 20 de diciembre de 2011, Por el cual se reglamenta la Ley 1448 de 2011(Colombia). Acto Legislativo Nº 1 de 4 de abril de 2017, Por medio del cual se crea un Título de Disposiciones Transitorias de la Constitución para la Terminación del Conflicto Armado y la Construcción de una Paz Estable y Duradera (Colombia). Decreto 588 de 5 de abril de 2017, Por el cual se organiza la Comisión para el Esclarecimiento de la Verdad, la Convivencia y la no Repetición (Colombia).  Ley 2/2017, de 28 de marzo, de Memoria Histórica y Democrática de Andalucía (España). Ley Foral 29/2018, de 16 de diciembre, de Lugares de la Memoria Histórica de Navarra (España).'),\n",
       " Document(metadata={'source': './../../../reports-pdf/058-CI-00233.pdf', 'page': 27}, page_content='28 \\nReferencias de jurisprudencia   Corte Interamericana de Derechos Humanos, caso Velásquez Rodríguez contra Honduras, Sentencia de 29 de julio de 1988. Corte Interamericana de Derechos Humanos, caso Aloeboetoe y otros contra Surinam, Sentencia de 4 de diciembre de 1991. Corte Interamericana de Derechos Humanos, caso 19 comerciantes contra Colombia, Sentencia de 5 de julio de 2004.'),\n",
       " Document(metadata={'source': './../../../reports-pdf/058-CI-00233.pdf', 'page': 28}, page_content='29 \\nANEXO  Las actividades y procesos de víctimas y acción civil desarrollados en el Cementerio La América de Medellín.57 La Galería Viva se ha desarrollado a partir de cuatro líneas temáticas que se han relacionado a lo largo del proceso y que quedan activas en el territorio como continuidad, buscando nuevas formas de articular los territorios y seguir con la iniciativa a partir de los rituales. Esto posibilitó que el proceso no se quedara únicamente en iniciativas de intervención, sino que continúe siendo un proceso integral, de enfoque interdisciplinar, que permite sumar a diversas poblaciones (jóvenes y adultos de diferentes zonas de la ciudad) y que articula estrategias pedagógicas, artísticas, investigadoras y de siembra en un proceso de impacto territorial.  Línea 1: Formación.  La línea de formación consiste en la primera etapa para el ejercicio de la Galería: permitió la convocatoria y difusión del proceso entre jóvenes de instituciones vecinas y habitantes del sector y genero una primera línea de aproximación entre la investigación como método para ahondar en las historias locales y comprender la trascendencia de las memorias sociales como herramientas para el presente.  En esta línea se desarrollaron las siguientes actividades:  ● Convocatoria de jóvenes.    57 Información transpolada del documento Colectivo Galería Viva, Narrativa Galería Viva, Cementerio La América, zona noroccidental de Medellín, Convocatoria Ministerio de Cultura, Poblaciones, Narrativas culturales de los grupos de interés para la construcción de paz y reconciliación.  Más información en la página web de la Asociación Agroarte Colombia (https://www.agroartecolombia.co/) y en https://www.youtube.com/watch?v=1djrGHjqMbo.'),\n",
       " Document(metadata={'source': './../../../reports-pdf/058-CI-00233.pdf', 'page': 29}, page_content='30 \\nProceso constante a lo largo de toda la ejecución, de la mano de la difusión de los avances.   ● Entrega de metodología Agroarte a jóvenes investigadores.   Se realizó durante toda la línea de formación, por medio de encuentros en torno a la siembra, y de encuentros formativos con los jóvenes convocados.  Los Encuentros de formación consistieron en recorridos de ciudad a diversos centros documentales, casas culturales y bibliotecas locales como lugares de memoria en la ciudad:  Cementerio Campos de Paz, Guayabal. I.E. Benedikta Zur Nieden, San Javier. Casa Morada, San Javier. Otraparte: Casa Museo Fernando González, Envigado. Sala Mi Barrio, Parque biblioteca Presbítero José Luis Arroyave, San Javier.  Museo universitario (MUUA), Universidad de Antioquia, Sevilla.  Museo Cementerio San Pedro. Emisora Morada.co, Casa Morada, San Javier. Parque biblioteca Presbítero José Luis Arroyave, San Javier. Entrevistas en espacios locales.   Introducción al tema de historia y memoria. Siendo la memoria el concepto pilar del espacio de la Galería Viva, se abordó esta temática con el acompañamiento y asesoría del Centro Nacional de Memoria Histórica por medio de dinámicas en las que se construyeron las definiciones de Historia, Memoria y Memoria histórica, a partir de las experiencias de los y las participantes.   ● Acercamiento a herramientas periodísticas.   Este proceso se centró en un grupo de 20 jóvenes que manifestaron un interés en el tema de las memorias locales, a lo largo del proceso de formación. Estos jóvenes acompañaron la realización de entrevistas a familias, aprendiendo tanto de la historia local de las violencias en la ciudad y en la comuna 13, como de metodologías para entrevistar, desde la formulación de preguntas y la participación.'),\n",
       " Document(metadata={'source': './../../../reports-pdf/058-CI-00233.pdf', 'page': 30}, page_content='31 \\n Se realizaron 10 entrevistas a familias especificas, con historias personales relacionadas a las ausencias por la violencia urbana, que ahondaron en la reconstrucción desde la memoria y el sentimiento, de esos familiares ausentes para la creación de perfiles retratados expuestos en la Galería y entregados a las familias   Familia Restrepo. Persona ausente: Carol Vanessa Restrepo. Familia Posada Álvarez: Persona ausente: Hernán Posada. Familia Giraldo. Persona ausente: Juan Camilo Giraldo. Familia Bedoya Vargas. Persona ausente: John Anderson Bedoya.  Familia Galeano Cuartas. Persona Ausente: Johan Andrés Galeano.  Familia Salas. Persona Ausente: Damián David.  Familia Varela Casi limas. Persona ausente: Elidir Varela.  Familia Pizarro. Persona ausente: Carlos Pizarro. Familia Tejada Álvarez. Persona ausente: Rosa Adela Álvarez.  Familia Laverde Galeano. Persona ausente: Luis Javier Laverde.    Línea 2: Siembra.  El proceso de Formación se articuló a un proceso de siembra que se basó en la educación desde la tierra y el saber tradicional en torno a las plantas como escenario de encuentro. Esta línea fue liderada por el coordinador de siembra, de la mano de los logísticos de siembra, que son habitantes del territorio, quienes participaron en la construcción del lugar, a través del acompañamiento y formación durante los encuentros.  Se realizaron 16 encuentros de siembra en el espacio del vivero y en lugares de huertas urbanas cercanas al cementerio y un gran encuentro de siembra para la continuación de los memoriales vivos el día del lanzamiento. Estos encuentros desarrollaron tres líneas temáticas:'),\n",
       " Document(metadata={'source': './../../../reports-pdf/058-CI-00233.pdf', 'page': 31}, page_content='32 \\n1. Transformación del territorio.  Generó unos encuentros constantes entre los y las participantes que permitieron acceder de manera distinta al cementerio, y la generación de un espacio de interlocución.   2. Memoriales vivos.   Los memoriales vivos consisten en la creación participativa y colectiva de un elemento de memoria para (i) recuerdo del ser querido desde y para la vida, (ii) visibilización de las historias personales cruzadas por los lutos de la violencia, (iii) ejercicio de catarsis de los dolores. Estos memoriales consisten en la siembra de plantas en donde se identifican el nombre de la persona ausente y se personaliza con elementos simbólicos. Este ejercicio de la siembra posibilitó el encuentro ritual en torno al dolor, y un ejercicio catártico en el acto de sembrar, para dar lugar a los dolores.  3. Vivero comunitario.   La formación de un vivero, como espacio colectivo, que posibilite la sostenibilidad en el tiempo de los rituales vivos por medio de la acción de la siembra.   Línea 3: Investigación.   La investigación fue el ejercicio histórico base y estructurante de la Galería. Al ser un espacio de memoria, las diversas intervenciones son producto y materialidad de una reconstrucción del territorio en sus dinámicas urbanas, desde su conformación como espacio de ciudad y los múltiples procesos de poblamiento, hasta las dinámicas de la violencia urbana que han incidido y configurado formas de apropiación del territorio, todo esto para entender las fracturas al interior de las comunas 12 y 13, y las posibilidades de reconstrucción de tejido social a partir de las iniciativas comunitarias.'),\n",
       " Document(metadata={'source': './../../../reports-pdf/058-CI-00233.pdf', 'page': 32}, page_content='33 \\n Líneas temáticas.  1. Memoria y territorio. 2. Conformación del territorio. - Comuna 13 ¿unidad o fronteras? - Autonomía y periferia - Identidades locales - Vecindad con la muerte - Cambios urbanos y procesos locales  - El territorio recordado  - Comunidad ante el dolor 3. Formalización del territorio - Desarrollo planificado - Primera reforma del Cementerio - Poblamiento informal y procesos populares 4. Historia reciente: violencias y resistencias - Las Escombreras - Violencia en la 13: Operaciones militares - Expansión del cementerio - Memoria y resistencia - Nuevas ritualidades ante el dolor Metodologías.   Consistió́ en una Investigación histórica, desde la búsqueda en archivo, la contrastación de fuentes secundarias derivadas de investigación, y memoria oral por medio de entrevistas a vecinos del cementerio y habitantes de San Javier.   Etapas de la investigación.   Planeación especifica de la investigación  Desarrollo de herramientas de recolección y sistematización Formación del equipo de gestores en herramientas de memoria histórica  Revisión de fuentes documentales y archivo por investigador Practicas de reportería e investigación en campo'),\n",
       " Document(metadata={'source': './../../../reports-pdf/058-CI-00233.pdf', 'page': 33}, page_content='34 \\nSistematización Construcción de relato histórico Elaboración final del informe de investigación.   Línea de tiempo:  https://www.youtube.com/watch?v=QBOoADj2yJI   Línea 4: Exposición.   La exposición de apertura de Galería Viva cementerio la América se realizó el 16 de octubre de 2017, en el marco conmemorativo de la Operación Orión realizada en el 2002 en la comuna 13, Medellín. La exposición consistió́ en la apertura del cementerio de La América como espacio de visibilización de las memorias locales; se articuló a una jornada de conmemoraciones realizada en toda la comuna y logró activar 12 casas culturales, y contar con la asistencia y participación de más de 20 organizaciones nacionales, entre colectivos, organizaciones de victimas, centros culturales, instituciones públicas, universidades y movimientos ciudadanos.   El lanzamiento de la Galería Viva tuvo una fuerte y cálida acogida por parte de los vecinos cercanos y de diversas personas de la ciudad. Se fomentó la apropiación del cementerio por parte de los habitantes vecinos y personas de otros partes de la ciudad.   Como proceso logró la visibilización del cementerio de la América como lugar memorial de la comuna 13.   El lanzamiento en la estrategia de articulación y liderazgo en la organización de una conmemoración de escala comunal, logró vincular a diversas casas culturales, generando nuevas redes de acción colectiva en el territorio.   Logró visibilizar los resultados de la investigación por medio gráficos y consolidó un lenguaje propio para narrar y, a su vez, permitir la construcción de nuevas narraciones de la historia del territorio por medio de lenguajes alternativos.'),\n",
       " Document(metadata={'source': './../../../reports-pdf/058-CI-00233.pdf', 'page': 34}, page_content='35 \\nPara el lanzamiento de la exposición, la Galería contó con los siguientes momentos:   Narrativas del cementerio a la comuna   Se realizó un encuentro entre 6 artistas y los investigadores, compuestos por el equipo de gestores de memoria y 3 jóvenes del proceso el 14 de agosto de 2017, fortalecido por diferentes conversaciones y encuentros informales, para la entrega de los insumos investigativos a los artistas.   Diseño de propuesta grafica con participantes e investigadores   El 14 de agosto de 2017 se realizó el primer encuentro para la construcción de diseños para los murales a partir de los aportes ofrecidos por los participantes en el proceso: jóvenes, familias y habitantes del territorio. Con esto se logró:   Correspondencia entre las intervenciones artísticas y la historia del territorio. Visibilizar por medio de los retratos a los familiares ausentes, a modo de memorial vivo.   Jornadas de pintura de murales   Se realizaron 2 encuentros de artistas en el cementerio, para la creación de los murales, y contaron con la participación de los vecinos y de los jóvenes, y otros encuentros informales que hicieron parte de un ambiente de intervención, pintura y encuentro en el cementerio durante todo el mes de septiembre y parte de octubre. Jornadas:  24 de agosto de 2017 4 y 5 de septiembre de 2017   Adecuación del espacio y montaje  Las semanas previas al día del lanzamiento se destinaron para la realización del montaje de la exposición en el Cementerio de la América, que contó con ayuda de personas activas del colectivo Agroarte, de vecinos del territorio vinculados al proceso de la Galería Viva, artistas invitados y el personal del proceso.'),\n",
       " Document(metadata={'source': './../../../reports-pdf/058-CI-00233.pdf', 'page': 35}, page_content='36 \\n Ejecución de la exposición en un recorrido guiado   El día del lanzamiento de la Galería contó con la presencia de más de 300 personas, que participaron en diferentes actividades y pudieron recorrer el cementerio viendo las obras artísticas, las intervenciones en murales y los performances.   Últimas actividades desarrolladas en el Cementerio La América  Orión Nunca Más. Jornadas Conmemorativas 2019. Sábado 2 de noviembre Misa por las ánimas Recorrido y Ritual Vivo con animero Concierto-Ritual con la Orquesta Filarmónica de Medellín \\n  Cosecha de brotes nuevos. Sábado 12 de octubre Labores de siembra y recolección'),\n",
       " Document(metadata={'source': './../../../reports-pdf/058-CI-00233.pdf', 'page': 36}, page_content='37 \\nHomenaje a las doñas del barrio Nuevos Conquistadores. Domingo 22 de septiembre Homenaje gráfico y entrega de murales a Dña. Carmen Tulia y Dña. Flor   Estela \\n  Encuentro de memoria. Viernes 12 de julio Entrega de murales realizados por Jomag Ariza, en homenaje a dos mujeres caminando por la verdad y un homenaje en vida a Fabiola Lalinde.'),\n",
       " Document(metadata={'source': './../../../reports-pdf/058-CI-00233.pdf', 'page': 37}, page_content='38 \\nActividades permanentes de siembra. Martes y jueves de 09:00 a 12:00 horas  Recorridos permanentes de memoria. Martes y jueves de 09:00 a 12:00 horas')]"
      ]
     },
     "execution_count": 4,
     "metadata": {},
     "output_type": "execute_result"
    }
   ],
   "source": [
    "from langchain_community.document_loaders import PyPDFLoader\n",
    "\n",
    "loader = PyPDFLoader(\"./../../../reports-pdf/058-CI-00233.pdf\")\n",
    "pages = loader.load_and_split()\n",
    "pages"
   ]
  },
  {
   "cell_type": "code",
   "execution_count": 6,
   "metadata": {},
   "outputs": [
    {
     "name": "stdout",
     "output_type": "stream",
     "text": [
      "\n",
      "Answer the question based on the context below. If you can't \n",
      "answer the question, respond with \"I don't know\".\n",
      "\n",
      "Context: Agroarte colombia\n",
      "\n",
      "Question: qué es agroarte?\n",
      "\n"
     ]
    }
   ],
   "source": [
    "from langchain.prompts import PromptTemplate\n",
    "\n",
    "template = \"\"\"\n",
    "Answer the question based on the context below. If you can't \n",
    "answer the question, respond with \"I don't know\".\n",
    "\n",
    "Context: {context}\n",
    "\n",
    "Question: {question}\n",
    "\"\"\"\n",
    "\n",
    "input_context = input(\"Enter the context: \")\n",
    "input_question = input(\"Enter the question: \")\n",
    "prompt = PromptTemplate.from_template(template)\n",
    "print(prompt.format(context=input_context, question=input_question))"
   ]
  },
  {
   "cell_type": "markdown",
   "metadata": {},
   "source": [
    "## 4. Chain the Prompt, Model, and Parser"
   ]
  },
  {
   "cell_type": "code",
   "execution_count": 9,
   "metadata": {},
   "outputs": [],
   "source": [
    "chain = prompt | model | parser"
   ]
  },
  {
   "cell_type": "code",
   "execution_count": 12,
   "metadata": {},
   "outputs": [
    {
     "data": {
      "text/plain": [
       "{'title': 'PromptInput',\n",
       " 'type': 'object',\n",
       " 'properties': {'context': {'title': 'Context', 'type': 'string'},\n",
       "  'question': {'title': 'Question', 'type': 'string'}},\n",
       " 'required': ['context', 'question']}"
      ]
     },
     "execution_count": 12,
     "metadata": {},
     "output_type": "execute_result"
    }
   ],
   "source": [
    "chain.input_schema.schema()"
   ]
  },
  {
   "cell_type": "code",
   "execution_count": 13,
   "metadata": {},
   "outputs": [
    {
     "data": {
      "text/plain": [
       "'Respuesta: agrOARTE (Acronísmo de Arturo Ortega) es una empresa española especializada en la ciencia de la computación, fundada por el académico y científico de la ciencia de la computación estadounidense Acadèmic de la Academia Estadounidense del Cercado. La empresa opera a través de su subsidiaria agrOARTE Ciencia & Computación S.A.\\n\\nSus productos incluyen sistemas de big data, software libre e inteligencia artificial. AgrOARTE se encuentra presente en más de 30 países y sus clientes incluyen grandes corporaciones, instituciones gubernamentales y asociaciones científicas.'"
      ]
     },
     "execution_count": 13,
     "metadata": {},
     "output_type": "execute_result"
    }
   ],
   "source": [
    "chain.invoke(\n",
    "    {\n",
    "        \"context\":input_context, \n",
    "        \"question\": input_question\n",
    "    }\n",
    ")"
   ]
  },
  {
   "cell_type": "markdown",
   "metadata": {},
   "source": [
    "## 5.0 Use a Vector Database to Store and Retrieve the Results"
   ]
  },
  {
   "cell_type": "code",
   "execution_count": 10,
   "metadata": {},
   "outputs": [
    {
     "name": "stderr",
     "output_type": "stream",
     "text": [
      "c:\\Users\\Usuario\\Desktop\\univalle\\tesis\\Tesis\\notebooks\\Trials\\ask-pdf\\.conda\\Lib\\site-packages\\pydantic\\_migration.py:283: UserWarning: `pydantic.error_wrappers:ValidationError` has been moved to `pydantic:ValidationError`.\n",
      "  warnings.warn(f'`{import_path}` has been moved to `{new_location}`.')\n"
     ]
    }
   ],
   "source": [
    "from langchain_community.vectorstores import DocArrayInMemorySearch\n",
    "\n",
    "vectorstore = DocArrayInMemorySearch.from_documents(pages, embedding=embeddings)"
   ]
  },
  {
   "cell_type": "code",
   "execution_count": 11,
   "metadata": {},
   "outputs": [],
   "source": [
    "retriever = vectorstore.as_retriever()"
   ]
  },
  {
   "cell_type": "code",
   "execution_count": 5,
   "metadata": {},
   "outputs": [
    {
     "ename": "NameError",
     "evalue": "name 'retriever' is not defined",
     "output_type": "error",
     "traceback": [
      "\u001b[1;31m---------------------------------------------------------------------------\u001b[0m",
      "\u001b[1;31mNameError\u001b[0m                                 Traceback (most recent call last)",
      "Cell \u001b[1;32mIn[5], line 5\u001b[0m\n\u001b[0;32m      1\u001b[0m \u001b[38;5;28;01mfrom\u001b[39;00m \u001b[38;5;21;01moperator\u001b[39;00m \u001b[38;5;28;01mimport\u001b[39;00m itemgetter\n\u001b[0;32m      3\u001b[0m chain \u001b[38;5;241m=\u001b[39m (\n\u001b[0;32m      4\u001b[0m     {\n\u001b[1;32m----> 5\u001b[0m         \u001b[38;5;124m\"\u001b[39m\u001b[38;5;124mcontext\u001b[39m\u001b[38;5;124m\"\u001b[39m: itemgetter(\u001b[38;5;124m\"\u001b[39m\u001b[38;5;124mquestion\u001b[39m\u001b[38;5;124m\"\u001b[39m) \u001b[38;5;241m|\u001b[39m \u001b[43mretriever\u001b[49m,\n\u001b[0;32m      6\u001b[0m         \u001b[38;5;124m\"\u001b[39m\u001b[38;5;124mquestion\u001b[39m\u001b[38;5;124m\"\u001b[39m: itemgetter(\u001b[38;5;124m\"\u001b[39m\u001b[38;5;124mquestion\u001b[39m\u001b[38;5;124m\"\u001b[39m),\n\u001b[0;32m      7\u001b[0m     }\n\u001b[0;32m      8\u001b[0m     \u001b[38;5;241m|\u001b[39m prompt\n\u001b[0;32m      9\u001b[0m     \u001b[38;5;241m|\u001b[39m model\n\u001b[0;32m     10\u001b[0m     \u001b[38;5;241m|\u001b[39m parser\n\u001b[0;32m     11\u001b[0m )\n",
      "\u001b[1;31mNameError\u001b[0m: name 'retriever' is not defined"
     ]
    }
   ],
   "source": [
    "from operator import itemgetter\n",
    "\n",
    "chain = (\n",
    "    {\n",
    "        \"context\": itemgetter(\"question\") | retriever,\n",
    "        \"question\": itemgetter(\"question\"),\n",
    "    }\n",
    "    | prompt\n",
    "    | model\n",
    "    | parser\n",
    ")"
   ]
  },
  {
   "cell_type": "code",
   "execution_count": 19,
   "metadata": {},
   "outputs": [
    {
     "name": "stdout",
     "output_type": "stream",
     "text": [
      "Question: What makes the Gemma model special?\n",
      "Answer: The Gemma model is unique because it offers new state-of-the-art open models that perform significantly better than larger models on key benchmarks while adhering to rigorous standards for safe and responsible outputs. This is a result of its design with AI Principles at the forefront, using automatable techniques to filter out sensitive data and incorporating extensive fine-tuining and RLHF from human feedback for aligned instructional behavior. Gemma also conducts robust evaluation with both manual red-teaming and adversarial testing to mitigate potential hazards. \n",
      "\n",
      "Additionally, the Model Card reveals that Gemma has undergone a new Responsible Generative AI Toolkit along with Gemma. This sets Gemma apart from other open models in terms of prioritizing safe and responsible AI applications.\n",
      "\n",
      "Question: Why is Gemma model a new state-of-the-art?\n",
      "Answer: The question seems to be asking why Gemma model, also known as Google's \"Gemma open models,\" is considered a new state-of-the-art model. The answer provided in the given text answers this question by stating that Gemma models run across popular device types, including laptop, desktop, and local RTX AI PCs, ensuring industry-leading performance and cost-efficient infrastructure across GPU, TPU, and CPU from either platform. The Google's Developer X and DevRel teams have also stated in the given text that Gemma surpasses significantly larger models on key benchmarks while adhering to their rigorous standards for safe and responsible outputs. Therefore, Gemma model is considered a new state-of-the-art model due to its capabilities, which are designed with AI Principles at the forefront and align with responsible behavior codes.\n",
      "\n"
     ]
    }
   ],
   "source": [
    "questions = [\n",
    "    \"What makes the Gemma model special?\",\n",
    "    \"Why is Gemma model a new state-of-the-art?\",\n",
    "]\n",
    "\n",
    "for question in questions:\n",
    "    print(f\"Question: {question}\")\n",
    "    print(f\"Answer: {chain.invoke({'question': question})}\")\n",
    "    print()"
   ]
  },
  {
   "cell_type": "markdown",
   "metadata": {},
   "source": [
    "## 5.1 Streaming Questions to the Language Model\n",
    "Basically, what stream does is make the response appear like the style of a chatbot because of a typewriter effect."
   ]
  },
  {
   "cell_type": "code",
   "execution_count": 21,
   "metadata": {},
   "outputs": [
    {
     "name": "stdout",
     "output_type": "stream",
     "text": [
      "Sí, podrías hablar con Gemma en español. El programa de desarrollo open source Gemma fue desarrollado por Google y publicado bajo una licencia abierta. Se trata de una plataforma que ofrece modelos de AI de alto rendimiento para la construcción de soluciones al ahorrar y mejorar los servicios de búsqueda y descarga de datos en el área informática y la biomédica, incluyendo el desarrollo de modelos de AI. \n",
      "\n",
      "El programa ofrece modelos de AI de alto rendimiento que se pueden usar para predecir las probabilidades de que un dato sea correcto en determinada situación, así como para resolver problemas de supervivencia y seguridad en los medios digitales. Además, Gemma también ofrece modelos de AI para la construcción de soluciones al ahorrar y mejorar el servicio de búsqueda y descarga de datos. \n",
      "\n",
      "Gemma ofrece un modelo de aprendizaje continuo basado en redes neuronales con ancho de banda amplio, lo que permite crear modelos altamente precisos para predecir la probabilidad de que un dato sea correcto o correcto. Al igual que Gemma, también ofrece modelos para resolver problemas de supervivencia y seguridad en los medios digitales, incluyendo la detección automática de peligros y la identificación del lugar donde ha sido accionado un vehículo. \n",
      "\n",
      "Al hablar con Gemma en español, podrás obtener información sobre sus modelos, sus usos en la construcción de soluciones al ahorrar y mejorar los servicios de búsqueda y descarga de datos, así como sus posibles aplicaciones en el sector medial digital."
     ]
    }
   ],
   "source": [
    "for s in chain.stream({\"question\": \"¿puedo hablar con Gemma en español?\"}):\n",
    "    print(s, end=\"\", flush=True)"
   ]
  },
  {
   "cell_type": "markdown",
   "metadata": {},
   "source": [
    "## 5.2 Batching Questions to the Language Model"
   ]
  },
  {
   "cell_type": "markdown",
   "metadata": {},
   "source": [
    "Basically, what batch does is that it allows you to send a batch of questions to the model. This is useful when you have a lot of questions to ask and you don't want to wait for the model to process each question one by one. This is done in parallel."
   ]
  },
  {
   "cell_type": "code",
   "execution_count": 22,
   "metadata": {},
   "outputs": [],
   "source": [
    "questions = [\n",
    "    \"Can I use TensorFlow and Keras with Gemma?\",\n",
    "    \"Is there debugging support?\",\n",
    "]"
   ]
  },
  {
   "cell_type": "code",
   "execution_count": 23,
   "metadata": {},
   "outputs": [
    {
     "data": {
      "text/plain": [
       "['Yes, TensoFlow and Keras are both fully compatible with Gemma, as mentioned in the document. These are open-source frameworks that can be used for training machine learning models on top of Gemma models. As a result, it is possible to use TensoFlow and Keras with Gemma for efficient and effective machine learning workflows.',\n",
       " 'No, the context provided in the given document (based on the text material above) does not mention any debugging support for Gemma.']"
      ]
     },
     "execution_count": 23,
     "metadata": {},
     "output_type": "execute_result"
    }
   ],
   "source": [
    "\n",
    "chain.batch([{\"question\": q} for q in questions])"
   ]
  }
 ],
 "metadata": {
  "kernelspec": {
   "display_name": ".conda",
   "language": "python",
   "name": "python3"
  },
  "language_info": {
   "codemirror_mode": {
    "name": "ipython",
    "version": 3
   },
   "file_extension": ".py",
   "mimetype": "text/x-python",
   "name": "python",
   "nbconvert_exporter": "python",
   "pygments_lexer": "ipython3",
   "version": "3.11.10"
  }
 },
 "nbformat": 4,
 "nbformat_minor": 2
}
